{
  "nbformat": 4,
  "nbformat_minor": 0,
  "metadata": {
    "colab": {
      "provenance": []
    },
    "kernelspec": {
      "name": "python3",
      "display_name": "Python 3"
    },
    "language_info": {
      "name": "python"
    }
  },
  "cells": [
    {
      "cell_type": "markdown",
      "source": [
        "Problem 1: Package Delivery (Uniform Cost Search)"
      ],
      "metadata": {
        "id": "526mfbdLQ2Q8"
      }
    },
    {
      "cell_type": "markdown",
      "source": [
        "a) UCS Algorithm to Find Lowest-Cost Path\n",
        "\n",
        "implement a Uniform Cost Search (UCS) to find the lowest-cost path for a robot that starts at (0, 0) and needs to visit a set of delivery destinations. The terrain has different movement costs, and the robot may move north, south, east, or west"
      ],
      "metadata": {
        "id": "Seacck-5V5E7"
      }
    },
    {
      "cell_type": "code",
      "source": [
        "import heapq\n",
        "from typing import List, Tuple, Set\n",
        "\n",
        "\n",
        "terrain_cost = {'R': 1, 'T': 3, 'C': 5, 'E': 0.5}\n",
        "directions = [(-1, 0), (1, 0), (0, 1), (0, -1)]  # N, S, E, W\n",
        "\n",
        "def ucs_package_delivery(grid: List[List[str]], start: Tuple[int, int], delivery_points: Set[Tuple[int, int]]):\n",
        "    rows, cols = len(grid), len(grid[0])\n",
        "    pq = [(0, start, frozenset(), [start])]\n",
        "    visited = set()\n",
        "\n",
        "    while pq:\n",
        "        cost, (x, y), delivered, path = heapq.heappop(pq)\n",
        "        state = (x, y, delivered)\n",
        "        if state in visited:\n",
        "            continue\n",
        "        visited.add(state)\n",
        "\n",
        "        # deliver package if this location is a delivery point\n",
        "        if (x, y) in delivery_points:\n",
        "            delivered = frozenset(set(delivered) | {(x, y)})\n",
        "\n",
        "        # goal condition: all delivery points visited\n",
        "        if delivered == delivery_points:\n",
        "            return cost, path\n",
        "\n",
        "        for dx, dy in directions:\n",
        "            nx, ny = x + dx, y + dy\n",
        "            if 0 <= nx < rows and 0 <= ny < cols:\n",
        "                terrain = grid[nx][ny]\n",
        "                move_cost = terrain_cost[terrain]\n",
        "                heapq.heappush(pq, (cost + move_cost, (nx, ny), delivered, path + [(nx, ny)]))\n",
        "\n",
        "    return float('inf'), []\n"
      ],
      "metadata": {
        "id": "NxhGQ7w5TmQs"
      },
      "execution_count": null,
      "outputs": []
    },
    {
      "cell_type": "code",
      "source": [
        "grid = [\n",
        "    ['R', 'T', 'R', 'E'],\n",
        "    ['R', 'C', 'T', 'R'],\n",
        "    ['E', 'R', 'R', 'T'],\n",
        "    ['R', 'T', 'E', 'R']\n",
        "]\n",
        "\n",
        "start = (0, 0)\n",
        "delivery_points = {(0, 3), (2, 0), (3, 2)}  # example destinations\n",
        "\n",
        "cost, path = ucs_package_delivery(grid, start, delivery_points)\n",
        "\n",
        "print(\"Total Cost:\", cost)\n",
        "print(\"Path:\", path)\n"
      ],
      "metadata": {
        "colab": {
          "base_uri": "https://localhost:8080/"
        },
        "id": "FQpMd9CUYECl",
        "outputId": "2ecf12c1-a313-4b52-f9c8-ba6ca09a82b4"
      },
      "execution_count": null,
      "outputs": [
        {
          "output_type": "stream",
          "name": "stdout",
          "text": [
            "Total Cost: 9.5\n",
            "Path: [(0, 0), (1, 0), (2, 0), (2, 1), (2, 2), (3, 2), (2, 2), (1, 2), (0, 2), (0, 3)]\n"
          ]
        }
      ]
    },
    {
      "cell_type": "markdown",
      "source": [
        "b) Analysis of Scalability\n",
        "\n",
        "R = number of rows\n",
        "\n",
        "C = number of columns\n",
        "\n",
        "D = number of delivery points\n",
        "\n",
        "Time Complexity:\n",
        "\n",
        "each state includes a position and the subset of delivery points visited\n",
        "\n",
        "possible positions = R*C\n",
        "\n",
        "possible subsets of deliveries = 2^D\n",
        "\n",
        "so total states = O(R*C*2^D)\n",
        "\n",
        "each insertion into the priority queue is O(logN), giving total complexity:\n",
        "\n",
        "O(R*C*2^D*log(R*C*2^D)\n",
        "\n",
        "Space Complexity:\n",
        "\n",
        "visited states = O(R*C*2^D)\n",
        "\n",
        "Scaling Behavior:\n",
        "\n",
        "efficient on large grids if number of delivery points D is small\n",
        "\n",
        "becomes exponentially slower as D increases due to the 2^D growth of subsets"
      ],
      "metadata": {
        "id": "TumoTh3KYKUm"
      }
    },
    {
      "cell_type": "markdown",
      "source": [
        " c) One-Way Streets Modification\n",
        "\n",
        " to support one-way streets, we need to track which directions are allowed from each cell\n",
        "\n",
        " changes needed:\n",
        "\n",
        " extend each grid cell to store allowed movement directions:"
      ],
      "metadata": {
        "id": "fHV_2j3WaCbi"
      }
    },
    {
      "cell_type": "code",
      "source": [
        "# example:\n",
        "grid_info = {\n",
        "    (0, 0): {'type': 'R', 'allowed': ['S', 'E']},\n",
        "    ...\n",
        "}\n"
      ],
      "metadata": {
        "id": "U2MW3QuaaRFb"
      },
      "execution_count": null,
      "outputs": []
    },
    {
      "cell_type": "code",
      "source": [
        "#modify direction lookup to respect one-way rules\n",
        "\n",
        "direction_map = {'N': (-1, 0), 'S': (1, 0), 'E': (0, 1), 'W': (0, -1)}\n",
        "\n",
        "for d in grid_info[(x, y)]['allowed']:\n",
        "    dx, dy = direction_map[d]\n",
        "    ..."
      ],
      "metadata": {
        "id": "casOy3Uuaccd"
      },
      "execution_count": null,
      "outputs": []
    },
    {
      "cell_type": "markdown",
      "source": [
        "keep terrain costs and delivery logic the same\n",
        "\n",
        "Summary of Effect:\n",
        "\n",
        "search space reduces due to fewer movement options\n",
        "\n",
        "correctness maintained by only allowing legal moves\n",
        "\n",
        "UCS logic stays the same — only the neighbors change"
      ],
      "metadata": {
        "id": "8BFacAgsangS"
      }
    },
    {
      "cell_type": "markdown",
      "source": [
        "Problem 2: Network Routing (A* Search)\n",
        "\n",
        "a) Implement A* Search to Find Optimal Route Between Two Servers\n",
        "\n",
        "\n"
      ],
      "metadata": {
        "id": "Xs274zV-cV8E"
      }
    },
    {
      "cell_type": "code",
      "source": [
        "import heapq\n",
        "\n",
        "def calculate_cost(latency, bandwidth, load):\n",
        "    return latency * (1 + load / 100) / bandwidth\n",
        "\n",
        "def a_star(graph, start, goal, heuristic):\n",
        "    \"\"\"\n",
        "    graph: dict of nodes and edges with latency, bandwidth, load\n",
        "        Example: {\n",
        "            'A': {'B': {'latency': 10, 'bandwidth': 100, 'load': 20}, ...},\n",
        "            ...\n",
        "        }\n",
        "    start: starting node\n",
        "    goal: goal node\n",
        "    heuristic: function h(n) estimating cost from n to goal\n",
        "    \"\"\"\n",
        "    frontier = []\n",
        "    heapq.heappush(frontier, (0, start, [start]))  # (f_score, node, path)\n",
        "    g_cost = {start: 0}\n",
        "\n",
        "    while frontier:\n",
        "        f_score, current, path = heapq.heappop(frontier)\n",
        "\n",
        "        if current == goal:\n",
        "            return path, g_cost[current]\n",
        "\n",
        "        for neighbor, params in graph[current].items():\n",
        "            edge_cost = calculate_cost(params['latency'], params['bandwidth'], params['load'])\n",
        "            new_cost = g_cost[current] + edge_cost\n",
        "\n",
        "            if neighbor not in g_cost or new_cost < g_cost[neighbor]:\n",
        "                g_cost[neighbor] = new_cost\n",
        "                h_cost = heuristic(neighbor, goal)\n",
        "                total_cost = new_cost + h_cost\n",
        "                heapq.heappush(frontier, (total_cost, neighbor, path + [neighbor]))\n",
        "\n",
        "    return None, float('inf')\n"
      ],
      "metadata": {
        "id": "GPedfgTMM3nt"
      },
      "execution_count": 1,
      "outputs": []
    },
    {
      "cell_type": "code",
      "source": [
        "graph = {\n",
        "    'A': {\n",
        "        'B': {'latency': 10, 'bandwidth': 100, 'load': 20},\n",
        "        'C': {'latency': 20, 'bandwidth': 50,  'load': 10},\n",
        "    },\n",
        "    'B': {\n",
        "        'D': {'latency': 30, 'bandwidth': 75,  'load': 50},\n",
        "    },\n",
        "    'C': {\n",
        "        'D': {'latency': 10, 'bandwidth': 50,  'load': 0},\n",
        "    },\n",
        "    'D': {}\n",
        "}\n",
        "\n",
        "start = 'A'\n",
        "goal = 'D'\n",
        "\n",
        "\n",
        "path, total_cost = a_star(graph, start, goal, heuristic)\n",
        "print(\"Optimal path:\", path)\n",
        "print(\"Total cost:\", total_cost)\n"
      ],
      "metadata": {
        "colab": {
          "base_uri": "https://localhost:8080/"
        },
        "id": "yqYz5I0TNfIm",
        "outputId": "f59f6f57-a461-495e-e6bf-ca0d3ab65330"
      },
      "execution_count": 5,
      "outputs": [
        {
          "output_type": "stream",
          "name": "stdout",
          "text": [
            "Optimal path: ['A', 'B', 'D']\n",
            "Total cost: 0.72\n"
          ]
        }
      ]
    },
    {
      "cell_type": "markdown",
      "source": [
        " b) Design and Implement an Admissible Heuristic\n",
        "\n",
        " to ensure admissibility, the heuristic must never overestimate. A good admissible heuristic for this network routing problem:"
      ],
      "metadata": {
        "id": "M2ASR1laPEWP"
      }
    },
    {
      "cell_type": "code",
      "source": [
        "# use the minimum possible latency-to-bandwidth ratio seen across the network as a scaling factor\n",
        "def build_min_latency_bandwidth(graph):\n",
        "    min_ratio = float('inf')\n",
        "    for u in graph:\n",
        "        for v in graph[u]:\n",
        "            latency = graph[u][v]['latency']\n",
        "            bandwidth = graph[u][v]['bandwidth']\n",
        "            if bandwidth > 0:\n",
        "                ratio = latency / bandwidth\n",
        "                if ratio < min_ratio:\n",
        "                    min_ratio = ratio\n",
        "    return min_ratio\n",
        "\n",
        "def heuristic_factory(min_ratio):\n",
        "    \"\"\"\n",
        "    returns a heuristic function h(n, goal) that uses min_ratio.\n",
        "    assumes each hop is at least one edge with the best possible latency/bandwidth.\n",
        "    \"\"\"\n",
        "    def h(n, goal):\n",
        "        # admissible estimate: assume 1-hop with best possible ratio\n",
        "        return min_ratio  # or scaled by estimated hops if graph geometry is known\n",
        "    return h\n",
        "\n"
      ],
      "metadata": {
        "id": "QG6NoO5MORaE"
      },
      "execution_count": null,
      "outputs": []
    },
    {
      "cell_type": "markdown",
      "source": [
        "c) How does your heuristic handle network congestion?\n",
        "\n",
        "Network congestion is modeled through load, which affects cost.\n",
        "\n",
        "To handle it:\n",
        "\n",
        "During Search: We include load in the true cost calculation (compute_cost) so congested paths are penalized.\n",
        "\n",
        "In Heuristic:\n",
        "We avoid using current load in the heuristic to maintain admissibility (load may increase, so ignoring it underestimates cost).\n",
        "\n",
        "This allows A* to:\n",
        "\n",
        "Prefer less congested routes.\n",
        "\n",
        "Adapt routing away from heavily loaded paths.\n",
        "\n",
        "React if alternate paths become more optimal due to dynamic load changes.\n",
        "\n"
      ],
      "metadata": {
        "id": "T78a_vI3Qogr"
      }
    },
    {
      "cell_type": "markdown",
      "source": [
        "Problem 3: Resource Management (Dynamic Programming)\n",
        "\n",
        "a) Dynamic Programming Implementation"
      ],
      "metadata": {
        "id": "V7aufM9eSX-H"
      }
    },
    {
      "cell_type": "code",
      "source": [
        "def max_points(N, M, P, E):\n",
        "    from functools import lru_cache\n",
        "\n",
        "    # DP with memoization\n",
        "    @lru_cache(maxsize=None)\n",
        "    def dp(i, energy, prev1, prev2):\n",
        "        if i == N:\n",
        "            return 0  # no more units left\n",
        "\n",
        "        max_score = 0\n",
        "\n",
        "        # option 1: idle\n",
        "        max_score = max(max_score, dp(i + 1, energy, 'I', prev1))\n",
        "\n",
        "        # option 2: processing\n",
        "        if prev1 != 'P' and energy >= E:\n",
        "            max_score = max(max_score, P + dp(i + 1, energy - E, 'P', prev1))\n",
        "\n",
        "        # option 3: boosted\n",
        "        if not (prev1 == 'B' and prev2 == 'B') and energy >= 3 * E:\n",
        "            max_score = max(max_score, 2 * P + dp(i + 1, energy - 3 * E, 'B', prev1))\n",
        "\n",
        "        return max_score\n",
        "\n",
        "    return dp(0, M, 'I', 'I')  # start with first unit, full energy, no prior state\n"
      ],
      "metadata": {
        "id": "2SuItdHnScNX"
      },
      "execution_count": 7,
      "outputs": []
    },
    {
      "cell_type": "code",
      "source": [
        "N = 5     # number of units\n",
        "M = 10    # total energy budget\n",
        "P = 2     # points for Processing\n",
        "E = 1     # energy for Processing\n",
        "\n",
        "print(\"Maximum Points:\", max_points(N, M, P, E))\n"
      ],
      "metadata": {
        "colab": {
          "base_uri": "https://localhost:8080/"
        },
        "id": "ZIQjiHlUSwbH",
        "outputId": "2d69327d-a3cc-4fe5-e5c9-16126d8959c3"
      },
      "execution_count": 8,
      "outputs": [
        {
          "output_type": "stream",
          "name": "stdout",
          "text": [
            "Maximum Points: 14\n"
          ]
        }
      ]
    },
    {
      "cell_type": "markdown",
      "source": [
        "b) Proof of Optimality\n",
        "\n",
        "The solution uses top-down dynamic programming with memoization, which ensures:\n",
        "\n",
        "Every valid configuration is explored.\n",
        "\n",
        "No configuration is repeated thanks to caching (@lru_cache).\n",
        "\n",
        "Transitions respect all constraints:\n",
        "\n",
        "No more than 2 boosted in a row.\n",
        "\n",
        "No two processing units without idle in between.\n",
        "\n",
        "Total energy consumption is always checked.\n",
        "\n",
        "Therefore, it guarantees an optimal solution by exhaustively checking valid combinations under constraints."
      ],
      "metadata": {
        "id": "zoWgMiwfS5Ja"
      }
    },
    {
      "cell_type": "markdown",
      "source": [
        "c) Time and Space Complexity\n",
        "\n",
        "let’s define:\n",
        "\n",
        "N = number of units\n",
        "\n",
        "M = energy budget\n",
        "\n",
        "States per unit: combinations of previous 2 states = 3 * 3 = 9 (I, P, B)\n",
        "\n",
        "Time Complexity:\n",
        "\n",
        "Each state is defined by (i, energy, prev1, prev2)\n",
        "\n",
        "Total number of states = N * M * 3 * 3 = O(9NM) = O(NM)\n",
        "\n",
        "So the time complexity is O(N * M)\n",
        "\n",
        "Space Complexity:\n",
        "\n",
        "Space for memoization table: O(N * M * 3 * 3) = O(NM)\n",
        "\n",
        "Additional stack space: O(N) for recursion\n",
        "\n",
        "So the space complexity is also O(N * M)\n",
        "\n",
        "\n"
      ],
      "metadata": {
        "id": "wws5tGYOTW18"
      }
    }
  ]
}