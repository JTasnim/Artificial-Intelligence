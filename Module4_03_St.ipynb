{
  "cells": [
    {
      "cell_type": "code",
      "execution_count": 28,
      "id": "1e90f5e3-2dbe-4ac1-9d34-234472738d7d",
      "metadata": {
        "id": "1e90f5e3-2dbe-4ac1-9d34-234472738d7d"
      },
      "outputs": [],
      "source": [
        "class TransportationProblem:\n",
        "    def __init__(self, N):\n",
        "        self.N = N\n",
        "\n",
        "    def startState(self):\n",
        "        return 1\n",
        "\n",
        "    def isEnd(self, state):\n",
        "        return state == self.N\n",
        "\n",
        "    def succAndCost(self, state):\n",
        "        result = []\n",
        "        if state + 1 <= self.N:\n",
        "            result.append(('walk', state + 1, 1))\n",
        "        if state * 2 <= self.N:\n",
        "            result.append(('tram', state * 2, 2))\n",
        "        return result\n",
        "\n",
        "def printSolution(solution):\n",
        "    if solution is None:\n",
        "        print(\"No solution found!\")\n",
        "        return\n",
        "    totalCost, history = solution\n",
        "    print('Total Cost:', totalCost)\n",
        "    print('Path:')\n",
        "    for action, state, cost in history:\n",
        "        print(f\"  {action} to {state} (cost: {cost})\")"
      ]
    },
    {
      "cell_type": "code",
      "execution_count": 29,
      "id": "b98100bc-4763-4d74-8040-3606f5a1a505",
      "metadata": {
        "colab": {
          "base_uri": "https://localhost:8080/",
          "height": 53
        },
        "id": "b98100bc-4763-4d74-8040-3606f5a1a505",
        "outputId": "6ce96be2-61ee-4e78-d9db-20d458eec40c"
      },
      "outputs": [
        {
          "output_type": "execute_result",
          "data": {
            "text/plain": [
              "'\\nTasks:\\na. Modify the function to also return the optimal path\\nb. Add memoization statistics (cache hits/misses)\\nc. Visualize the memoization table for N=10\\n'"
            ],
            "application/vnd.google.colaboratory.intrinsic+json": {
              "type": "string"
            }
          },
          "metadata": {},
          "execution_count": 29
        }
      ],
      "source": [
        "### Task 1: Dynamic Programming\n",
        "#Analyze the dynamic programming implementation:\n",
        "\n",
        "def dynamicProgramming(problem):\n",
        "    cache = {}\n",
        "    def futureCost(state):\n",
        "        if problem.isEnd(state):\n",
        "            return 0\n",
        "        if state in cache:\n",
        "            return cache[state]\n",
        "        result = min(cost+futureCost(newState) \\\n",
        "                for action, newState, cost in problem.succAndCost(state))\n",
        "        cache[state] = result\n",
        "        return result\n",
        "    return (futureCost(problem.startState()), [])\n",
        "\n",
        "'''\n",
        "Tasks:\n",
        "a. Modify the function to also return the optimal path\n",
        "b. Add memoization statistics (cache hits/misses)\n",
        "c. Visualize the memoization table for N=10\n",
        "'''\n",
        "\n"
      ]
    },
    {
      "cell_type": "code",
      "source": [
        "#a) Modify to return the optimal path\n",
        "\n",
        "def dynamicProgrammingWithStats(problem):\n",
        "    cache = {}\n",
        "    stats = {'hits': 0, 'misses': 0}\n",
        "\n",
        "    def futureCost(state):\n",
        "        if problem.isEnd(state):\n",
        "            return 0, []\n",
        "\n",
        "        if state in cache:\n",
        "            stats['hits'] += 1\n",
        "            return cache[state]\n",
        "\n",
        "        stats['misses'] += 1\n",
        "        best = float('inf')\n",
        "        bestPath = None\n",
        "\n",
        "        for action, newState, cost in problem.succAndCost(state):\n",
        "            future, path = futureCost(newState)\n",
        "            total = cost + future\n",
        "            if total < best:\n",
        "                best = total\n",
        "                bestPath = [(action, newState, cost)] + path\n",
        "\n",
        "        cache[state] = (best, bestPath)\n",
        "        return cache[state]\n",
        "\n",
        "    result, path = futureCost(problem.startState())\n",
        "    return result, path, stats, cache\n"
      ],
      "metadata": {
        "id": "SBTgoDghEfr2"
      },
      "id": "SBTgoDghEfr2",
      "execution_count": 30,
      "outputs": []
    },
    {
      "cell_type": "code",
      "source": [
        "#b) Memoization Stats (Hits/Misses)\n",
        "\n",
        "# this is already included in the above code. We increment:\n",
        "\n",
        "stats['hits'] += 1     # when state is found in cache\n",
        "stats['misses'] += 1   # when state is newly computed\n"
      ],
      "metadata": {
        "id": "fsTuzphXEp0G"
      },
      "id": "fsTuzphXEp0G",
      "execution_count": 33,
      "outputs": []
    },
    {
      "cell_type": "code",
      "source": [
        "print(\"Memoization Stats:\", stats)\n"
      ],
      "metadata": {
        "colab": {
          "base_uri": "https://localhost:8080/"
        },
        "id": "JIrMikKiFepF",
        "outputId": "3b6fcf37-d543-425e-ca24-492941b5ea9a"
      },
      "id": "JIrMikKiFepF",
      "execution_count": 34,
      "outputs": [
        {
          "output_type": "stream",
          "name": "stdout",
          "text": [
            "Memoization Stats: {'hits': 5, 'misses': 10}\n"
          ]
        }
      ]
    },
    {
      "cell_type": "code",
      "source": [
        "#c) Visualize the Memoization Table (for N=10)\n",
        "import matplotlib.pyplot as plt\n",
        "\n",
        "def visualizeMemoization(cache, N):\n",
        "    states = list(range(1, N+1))\n",
        "    costs = [cache[state][0] if state in cache else 0 for state in states]\n",
        "\n",
        "    plt.figure(figsize=(10, 4))\n",
        "    plt.bar(states, costs, color='skyblue')\n",
        "    plt.title(\"Memoization Table (Cost by State)\")\n",
        "    plt.xlabel(\"State\")\n",
        "    plt.ylabel(\"Minimum Cost to Reach Goal\")\n",
        "    plt.xticks(states)\n",
        "    plt.grid(True)\n",
        "    plt.show()\n"
      ],
      "metadata": {
        "id": "hsv1CyEsFivG"
      },
      "id": "hsv1CyEsFivG",
      "execution_count": 31,
      "outputs": []
    },
    {
      "cell_type": "code",
      "source": [
        "problem = TransportationProblem(10)\n",
        "result, path, stats, cache = dynamicProgrammingWithStats(problem)\n",
        "\n",
        "print(\"Total Cost:\", result)\n",
        "print(\"Path:\")\n",
        "for action, state, cost in path:\n",
        "    print(f\"{action} to {state} (cost: {cost})\")\n",
        "\n",
        "print(\"\\nMemoization Stats:\", stats)\n",
        "\n",
        "# visualize for N=10\n",
        "visualizeMemoization(cache, 10)\n"
      ],
      "metadata": {
        "colab": {
          "base_uri": "https://localhost:8080/",
          "height": 571
        },
        "id": "x5iPc_dUFnhF",
        "outputId": "c5198610-9330-491b-e26b-9db932bf8705"
      },
      "id": "x5iPc_dUFnhF",
      "execution_count": 32,
      "outputs": [
        {
          "output_type": "stream",
          "name": "stdout",
          "text": [
            "Total Cost: 6\n",
            "Path:\n",
            "walk to 2 (cost: 1)\n",
            "walk to 3 (cost: 1)\n",
            "walk to 4 (cost: 1)\n",
            "walk to 5 (cost: 1)\n",
            "tram to 10 (cost: 2)\n",
            "\n",
            "Memoization Stats: {'hits': 4, 'misses': 9}\n"
          ]
        },
        {
          "output_type": "display_data",
          "data": {
            "text/plain": [
              "<Figure size 1000x400 with 1 Axes>"
            ],
            "image/png": "[encoded data removed]"
          },
          "metadata": {}
        }
      ]
    },
    {
      "cell_type": "code",
      "execution_count": 35,
      "id": "5ac3d84d-318d-4171-93ef-582c7f5441a5",
      "metadata": {
        "colab": {
          "base_uri": "https://localhost:8080/",
          "height": 53
        },
        "id": "5ac3d84d-318d-4171-93ef-582c7f5441a5",
        "outputId": "31385393-9e30-44d3-8825-e126890a3a11"
      },
      "outputs": [
        {
          "output_type": "execute_result",
          "data": {
            "text/plain": [
              "'\\nTasks:\\na. Add path tracking to the implementation\\nb. Implement a mechanism to visualize the frontier at each step\\nc. Add an explored set to avoid revisiting states\\n'"
            ],
            "application/vnd.google.colaboratory.intrinsic+json": {
              "type": "string"
            }
          },
          "metadata": {},
          "execution_count": 35
        }
      ],
      "source": [
        "### Task 2: Uniform Cost Search\n",
        "#Examine the uniform cost search implementation:\n",
        "\n",
        "def uniformCostSearch(problem):\n",
        "    frontier = util.PriorityQueue()\n",
        "    frontier.update(problem.startState(), 0)\n",
        "    while True:\n",
        "        state, pastCost = frontier.removeMin()\n",
        "        if problem.isEnd(state):\n",
        "            return (pastCost, [])\n",
        "        for action, newState, cost in problem.succAndCost(state):\n",
        "            frontier.update(newState, pastCost+cost)\n",
        "'''\n",
        "Tasks:\n",
        "a. Add path tracking to the implementation\n",
        "b. Implement a mechanism to visualize the frontier at each step\n",
        "c. Add an explored set to avoid revisiting states\n",
        "'''\n"
      ]
    },
    {
      "cell_type": "code",
      "execution_count": 36,
      "id": "b096b8ee-ca87-4b79-b637-4628f158f9e4",
      "metadata": {
        "id": "b096b8ee-ca87-4b79-b637-4628f158f9e4"
      },
      "outputs": [],
      "source": [
        "# a. Add path tracking to the implementation\n",
        "import heapq\n",
        "\n",
        "def uniformCostSearch_a(problem):\n",
        "    start = problem.startState()\n",
        "\n",
        "    # each heap element: (total_cost, current_state, path_taken)\n",
        "    frontier = []\n",
        "    heapq.heappush(frontier, (0, start, []))\n",
        "\n",
        "    while frontier:\n",
        "        total_cost, state, path = heapq.heappop(frontier)\n",
        "\n",
        "        if problem.isEnd(state):\n",
        "            return total_cost, path\n",
        "\n",
        "        for action, new_state, cost in problem.succAndCost(state):\n",
        "            new_path = path + [(action, new_state, cost)]\n",
        "            heapq.heappush(frontier, (total_cost + cost, new_state, new_path))\n",
        "\n"
      ]
    },
    {
      "cell_type": "code",
      "source": [
        "# b. Implement a mechanism to visualize the frontier at each step\n",
        "\n",
        "def uniformCostSearch_ab(problem):\n",
        "    start = problem.startState()\n",
        "    frontier = []\n",
        "    heapq.heappush(frontier, (0, start, []))\n",
        "\n",
        "    while frontier:\n",
        "        # visualize frontier before popping\n",
        "        print(\"Frontier:\")\n",
        "        for cost, st, _ in frontier:\n",
        "            print(f\"  State: {st}, Cost: {cost}\")\n",
        "        print(\"-------------------------\")\n",
        "\n",
        "        total_cost, state, path = heapq.heappop(frontier)\n",
        "        print(f\"Expanding state: {state}, Total cost so far: {total_cost}\\n\")\n",
        "\n",
        "        if problem.isEnd(state):\n",
        "            return total_cost, path\n",
        "\n",
        "        for action, new_state, cost in problem.succAndCost(state):\n",
        "            new_path = path + [(action, new_state, cost)]\n",
        "            heapq.heappush(frontier, (total_cost + cost, new_state, new_path))\n",
        "\n"
      ],
      "metadata": {
        "id": "FPtP0lw3LCK8"
      },
      "id": "FPtP0lw3LCK8",
      "execution_count": 37,
      "outputs": []
    },
    {
      "cell_type": "code",
      "source": [
        "# c. Add an explored set to avoid revisiting states\n",
        "\n",
        "def uniformCostSearch(problem):\n",
        "    start = problem.startState()\n",
        "    frontier = []\n",
        "    heapq.heappush(frontier, (0, start, []))\n",
        "    explored = set()\n",
        "\n",
        "    while frontier:\n",
        "        print(\"Frontier:\")\n",
        "        for cost, st, _ in frontier:\n",
        "            print(f\"  State: {st}, Cost: {cost}\")\n",
        "        print(\"-------------------------\")\n",
        "\n",
        "        total_cost, state, path = heapq.heappop(frontier)\n",
        "        print(f\"Expanding state: {state}, Total cost so far: {total_cost}\\n\")\n",
        "\n",
        "        # avoid revisiting\n",
        "        if state in explored:\n",
        "            continue\n",
        "        explored.add(state)\n",
        "\n",
        "        # goal test\n",
        "        if problem.isEnd(state):\n",
        "            return total_cost, path\n",
        "\n",
        "        for action, new_state, cost in problem.succAndCost(state):\n",
        "            if new_state not in explored:\n",
        "                new_path = path + [(action, new_state, cost)]\n",
        "                heapq.heappush(frontier, (total_cost + cost, new_state, new_path))\n"
      ],
      "metadata": {
        "id": "jWD81KjnK-Fu"
      },
      "id": "jWD81KjnK-Fu",
      "execution_count": 38,
      "outputs": []
    },
    {
      "cell_type": "code",
      "source": [
        "problem = TransportationProblem(10)\n",
        "cost, path = uniformCostSearch(problem)\n",
        "\n",
        "print(\"Final Result:\")\n",
        "print(\"Total Cost:\", cost)\n",
        "print(\"Path:\")\n",
        "for action, state, cost in path:\n",
        "    print(f\"{action} to {state} (cost: {cost})\")\n"
      ],
      "metadata": {
        "colab": {
          "base_uri": "https://localhost:8080/"
        },
        "id": "-GGZ1HW6LRM7",
        "outputId": "57496633-830b-4a41-b682-444c95904c0c"
      },
      "id": "-GGZ1HW6LRM7",
      "execution_count": 39,
      "outputs": [
        {
          "output_type": "stream",
          "name": "stdout",
          "text": [
            "Frontier:\n",
            "  State: 1, Cost: 0\n",
            "-------------------------\n",
            "Expanding state: 1, Total cost so far: 0\n",
            "\n",
            "Frontier:\n",
            "  State: 2, Cost: 1\n",
            "  State: 2, Cost: 2\n",
            "-------------------------\n",
            "Expanding state: 2, Total cost so far: 1\n",
            "\n",
            "Frontier:\n",
            "  State: 2, Cost: 2\n",
            "  State: 3, Cost: 2\n",
            "  State: 4, Cost: 3\n",
            "-------------------------\n",
            "Expanding state: 2, Total cost so far: 2\n",
            "\n",
            "Frontier:\n",
            "  State: 3, Cost: 2\n",
            "  State: 4, Cost: 3\n",
            "-------------------------\n",
            "Expanding state: 3, Total cost so far: 2\n",
            "\n",
            "Frontier:\n",
            "  State: 4, Cost: 3\n",
            "  State: 4, Cost: 3\n",
            "  State: 6, Cost: 4\n",
            "-------------------------\n",
            "Expanding state: 4, Total cost so far: 3\n",
            "\n",
            "Frontier:\n",
            "  State: 4, Cost: 3\n",
            "  State: 6, Cost: 4\n",
            "  State: 5, Cost: 4\n",
            "  State: 8, Cost: 5\n",
            "-------------------------\n",
            "Expanding state: 4, Total cost so far: 3\n",
            "\n",
            "Frontier:\n",
            "  State: 5, Cost: 4\n",
            "  State: 6, Cost: 4\n",
            "  State: 8, Cost: 5\n",
            "-------------------------\n",
            "Expanding state: 5, Total cost so far: 4\n",
            "\n",
            "Frontier:\n",
            "  State: 6, Cost: 4\n",
            "  State: 8, Cost: 5\n",
            "  State: 6, Cost: 5\n",
            "  State: 10, Cost: 6\n",
            "-------------------------\n",
            "Expanding state: 6, Total cost so far: 4\n",
            "\n",
            "Frontier:\n",
            "  State: 6, Cost: 5\n",
            "  State: 7, Cost: 5\n",
            "  State: 10, Cost: 6\n",
            "  State: 8, Cost: 5\n",
            "-------------------------\n",
            "Expanding state: 6, Total cost so far: 5\n",
            "\n",
            "Frontier:\n",
            "  State: 7, Cost: 5\n",
            "  State: 8, Cost: 5\n",
            "  State: 10, Cost: 6\n",
            "-------------------------\n",
            "Expanding state: 7, Total cost so far: 5\n",
            "\n",
            "Frontier:\n",
            "  State: 8, Cost: 5\n",
            "  State: 10, Cost: 6\n",
            "  State: 8, Cost: 6\n",
            "-------------------------\n",
            "Expanding state: 8, Total cost so far: 5\n",
            "\n",
            "Frontier:\n",
            "  State: 8, Cost: 6\n",
            "  State: 10, Cost: 6\n",
            "  State: 9, Cost: 6\n",
            "-------------------------\n",
            "Expanding state: 8, Total cost so far: 6\n",
            "\n",
            "Frontier:\n",
            "  State: 9, Cost: 6\n",
            "  State: 10, Cost: 6\n",
            "-------------------------\n",
            "Expanding state: 9, Total cost so far: 6\n",
            "\n",
            "Frontier:\n",
            "  State: 10, Cost: 6\n",
            "  State: 10, Cost: 7\n",
            "-------------------------\n",
            "Expanding state: 10, Total cost so far: 6\n",
            "\n",
            "Final Result:\n",
            "Total Cost: 6\n",
            "Path:\n",
            "walk to 2 (cost: 1)\n",
            "tram to 4 (cost: 2)\n",
            "walk to 5 (cost: 1)\n",
            "tram to 10 (cost: 2)\n"
          ]
        }
      ]
    }
  ],
  "metadata": {
    "kernelspec": {
      "display_name": "Python 3",
      "language": "python",
      "name": "python3"
    },
    "language_info": {
      "codemirror_mode": {
        "name": "ipython",
        "version": 3
      },
      "file_extension": ".py",
      "mimetype": "text/x-python",
      "name": "python",
      "nbconvert_exporter": "python",
      "pygments_lexer": "ipython3",
      "version": "3.10.17"
    },
    "colab": {
      "provenance": []
    }
  },
  "nbformat": 4,
  "nbformat_minor": 5
}