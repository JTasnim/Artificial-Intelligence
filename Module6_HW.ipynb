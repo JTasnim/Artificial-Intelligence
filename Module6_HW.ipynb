{
  "nbformat": 4,
  "nbformat_minor": 0,
  "metadata": {
    "colab": {
      "provenance": []
    },
    "kernelspec": {
      "name": "python3",
      "display_name": "Python 3"
    },
    "language_info": {
      "name": "python"
    }
  },
  "cells": [
    {
      "cell_type": "markdown",
      "source": [
        "Assignment 1: Monte Carlo Policy Optimization in a Noisy Grid\n",
        "World"
      ],
      "metadata": {
        "id": "u86R_NiWKTrO"
      }
    },
    {
      "cell_type": "code",
      "execution_count": 1,
      "metadata": {
        "id": "rl-cMsvPKMGf"
      },
      "outputs": [],
      "source": [
        "#Define the Environment\n",
        "\n",
        "import random\n",
        "\n",
        "class GridWorldMDP:\n",
        "    def __init__(self, width=5, height=5):\n",
        "        self.width = width\n",
        "        self.height = height\n",
        "        self.actions_list = ['up', 'down', 'left', 'right']\n",
        "        self.action_to_delta = {\n",
        "            'up': (0, 1),\n",
        "            'down': (0, -1),\n",
        "            'left': (-1, 0),\n",
        "            'right': (1, 0)\n",
        "        }\n",
        "\n",
        "    def startState(self):\n",
        "        return (1, 1)\n",
        "\n",
        "    def isEnd(self, state):\n",
        "        return state == (self.width, self.height)\n",
        "\n",
        "    def actions(self, state):\n",
        "        # can go in any direction except at the goal\n",
        "        if self.isEnd(state):\n",
        "            return []\n",
        "        return self.actions_list\n",
        "\n",
        "    def succProbReward(self, state, action):\n",
        "        # returns list of (newState, prob, reward) for taking 'action' at 'state'\n",
        "        if self.isEnd(state):\n",
        "            return []\n",
        "        nextStates = []\n",
        "        main_dx, main_dy = self.action_to_delta[action]\n",
        "        intended = (max(1, min(self.width, state[0] + main_dx)),\n",
        "                    max(1, min(self.height, state[1] + main_dy)))\n",
        "        # intended direction: 0.8\n",
        "        nextStates.append((intended, 0.8, 0 if intended == (self.width, self.height) else -1))\n",
        "        # noise: 0.2 (random perpendicular, i.e., choose one of the two perpendicular actions)\n",
        "        if action in ['up', 'down']:\n",
        "            perp = ['left', 'right']\n",
        "        else:\n",
        "            perp = ['up', 'down']\n",
        "        for perp_action in perp:\n",
        "            dx, dy = self.action_to_delta[perp_action]\n",
        "            new_state = (max(1, min(self.width, state[0] + dx)),\n",
        "                         max(1, min(self.height, state[1] + dy)))\n",
        "            nextStates.append((new_state, 0.1, 0 if new_state == (self.width, self.height) else -1))\n",
        "        return nextStates\n"
      ]
    },
    {
      "cell_type": "code",
      "source": [
        "#Simulate Episodes\n",
        "\n",
        "def simulateEpisode(mdp, policy, max_steps=100):\n",
        "    episode = []\n",
        "    state = mdp.startState()\n",
        "    steps = 0\n",
        "    while (not mdp.isEnd(state)) and steps < max_steps:\n",
        "        actions = mdp.actions(state)\n",
        "        if not actions:\n",
        "            break\n",
        "        action = policy[state] if state in policy else random.choice(actions)\n",
        "        # sample transition\n",
        "        transitions = mdp.succProbReward(state, action)\n",
        "        probs = [t[1] for t in transitions]\n",
        "        idx = random.choices(range(len(transitions)), probs)[0]\n",
        "        next_state, _, reward = transitions[idx]\n",
        "        episode.append((state, action, reward))\n",
        "        state = next_state\n",
        "        steps += 1\n",
        "    return episode\n"
      ],
      "metadata": {
        "id": "cOAeQJC7KkRt"
      },
      "execution_count": 2,
      "outputs": []
    },
    {
      "cell_type": "code",
      "source": [
        "#Implement Monte Carlo\n",
        "\n",
        "def monteCarlo(mdp, num_episodes=1000, epsilon=0.1):\n",
        "    Q = {}\n",
        "    returns = {}\n",
        "    policy = {}\n",
        "\n",
        "    for episode_num in range(num_episodes):\n",
        "        # create ϵ-greedy policy\n",
        "        def epsilonGreedyPolicy(state):\n",
        "            actions = mdp.actions(state)\n",
        "            if not actions:\n",
        "                return None\n",
        "            if random.random() < epsilon:\n",
        "                return random.choice(actions)\n",
        "            # choice with max Q\n",
        "            qvals = [Q.get((state, a), 0) for a in actions]\n",
        "            maxQ = max(qvals)\n",
        "            max_actions = [a for a, q in zip(actions, qvals) if q == maxQ]\n",
        "            return random.choice(max_actions)\n",
        "\n",
        "        # build a policy snapshot\n",
        "        for x in range(1, mdp.width+1):\n",
        "            for y in range(1, mdp.height+1):\n",
        "                state = (x, y)\n",
        "                actions = mdp.actions(state)\n",
        "                if actions:\n",
        "                    qvals = [Q.get((state, a), 0) for a in actions]\n",
        "                    maxQ = max(qvals)\n",
        "                    max_actions = [a for a, q in zip(actions, qvals) if q == maxQ]\n",
        "                    policy[state] = random.choice(max_actions)\n",
        "\n",
        "        # simulate episode\n",
        "        episode = []\n",
        "        state = mdp.startState()\n",
        "        steps = 0\n",
        "        while (not mdp.isEnd(state)) and steps < 100:\n",
        "            action = epsilonGreedyPolicy(state)\n",
        "            if action is None:\n",
        "                break\n",
        "            transitions = mdp.succProbReward(state, action)\n",
        "            probs = [t[1] for t in transitions]\n",
        "            idx = random.choices(range(len(transitions)), probs)[0]\n",
        "            next_state, _, reward = transitions[idx]\n",
        "            episode.append((state, action, reward))\n",
        "            state = next_state\n",
        "            steps += 1\n",
        "\n",
        "        # calculate returns\n",
        "        G = 0\n",
        "        visited = set()\n",
        "        for t in reversed(range(len(episode))):\n",
        "            state, action, reward = episode[t]\n",
        "            G = reward + G  # undiscounted (γ = 1)\n",
        "            if (state, action) not in visited:\n",
        "                visited.add((state, action))\n",
        "                returns.setdefault((state, action), []).append(G)\n",
        "                Q[(state, action)] = sum(returns[(state, action)]) / len(returns[(state, action)])\n",
        "\n",
        "    # derive deterministic greedy policy from Q\n",
        "    for x in range(1, mdp.width+1):\n",
        "        for y in range(1, mdp.height+1):\n",
        "            state = (x, y)\n",
        "            actions = mdp.actions(state)\n",
        "            if actions:\n",
        "                qvals = [Q.get((state, a), 0) for a in actions]\n",
        "                maxQ = max(qvals)\n",
        "                max_actions = [a for a, q in zip(actions, qvals) if q == maxQ]\n",
        "                policy[state] = random.choice(max_actions)\n",
        "    return policy, Q\n"
      ],
      "metadata": {
        "id": "RKv79JQhKrvz"
      },
      "execution_count": 3,
      "outputs": []
    },
    {
      "cell_type": "code",
      "source": [
        "#Analyze Results\n",
        "\n",
        "mdp = GridWorldMDP()\n",
        "policy, Q = monteCarlo(mdp, num_episodes=5000, epsilon=0.1)\n",
        "print(\"Policy at (1,1):\", policy.get((1,1), None))\n",
        "print(\"Policy at (3,3):\", policy.get((3,3), None))\n",
        "print(\"Policy at (5,4):\", policy.get((5,4), None))\n"
      ],
      "metadata": {
        "colab": {
          "base_uri": "https://localhost:8080/"
        },
        "id": "SZQE7vrFLsj8",
        "outputId": "f68420de-a649-4a4c-d3da-e80ae4c2f85e"
      },
      "execution_count": 4,
      "outputs": [
        {
          "output_type": "stream",
          "name": "stdout",
          "text": [
            "Policy at (1,1): down\n",
            "Policy at (3,3): up\n",
            "Policy at (5,4): up\n"
          ]
        }
      ]
    },
    {
      "cell_type": "markdown",
      "source": [
        "How many episodes for a stable policy:\n",
        "\n",
        "Typically, in this noisy grid setting, the policy stabilizes after 2,000–3,000 episodes, but the exact number can vary. Can be monitor stability by checking if the policy at key states stops changing over several hundred episodes.\n",
        "\n"
      ],
      "metadata": {
        "id": "bXYKSj7IMHaI"
      }
    },
    {
      "cell_type": "markdown",
      "source": [
        "Short Report:"
      ],
      "metadata": {
        "id": "PBIdrrONMhcx"
      }
    },
    {
      "cell_type": "markdown",
      "source": [
        "How does the noise in actions affect the learned policy compared to a deterministic grid world?\n",
        "\n",
        "Noise in actions forces the agent to prefer safer, more conservative paths, especially near the grid’s edges. For example, in the deterministic setting, the shortest path is optimal. But with noise, actions may accidentally send the agent off the desired route, so the policy may prefer longer, safer paths that avoid edges, reducing the risk of being stuck or taking many extra steps due to unintended movements."
      ],
      "metadata": {
        "id": "HwUFOyqvMjAA"
      }
    },
    {
      "cell_type": "markdown",
      "source": [
        "Why might Monte Carlo take longer to converge than value iteration in this setting?\n",
        "\n",
        "Monte Carlo learning relies exclusively on sampled episodes to update values; it only updates state-action pairs seen in sampled trajectories, and has to get a full return (from the endpoint) each time. This can require many episodes for accurate coverage of all relevant states, especially in large state spaces or with high noise. In contrast, value iteration uses the model (assuming known transitions/rewards) to update all states in parallel, converging much faster with full knowledge. In addition, noise increases the variance of returns, further slowing Monte Carlo’s convergence."
      ],
      "metadata": {
        "id": "8CKiR2BaM5AT"
      }
    },
    {
      "cell_type": "markdown",
      "source": [
        "Assignment 2: SARSA in a Dynamic Cliﬀ-Walking Problem"
      ],
      "metadata": {
        "id": "c4TVlet0PbBT"
      }
    },
    {
      "cell_type": "code",
      "source": [
        "#Define the Environment\n",
        "\n",
        "class CliffWalkMDP:\n",
        "    def __init__(self, width=12, height=4):\n",
        "        self.width = width\n",
        "        self.height = height\n",
        "        self.cliff_left = 2  # default: columns 2-11 (0-indexed)\n",
        "        self.cliff_right = 11\n",
        "        self.use_second_range = False\n",
        "        self.actions_list = ['up', 'down', 'left', 'right']\n",
        "        self.action_to_delta = {\n",
        "            'up': (0, 1),\n",
        "            'down': (0, -1),\n",
        "            'left': (-1, 0),\n",
        "            'right': (1, 0)\n",
        "        }\n",
        "\n",
        "    def startState(self):\n",
        "        return (1, 1)\n",
        "\n",
        "    def isEnd(self, state):\n",
        "        return state == (self.width, self.height)\n",
        "\n",
        "    def actions(self, state):\n",
        "        if self.isEnd(state):\n",
        "            return []\n",
        "        return self.actions_list\n",
        "\n",
        "    def isCliff(self, state):\n",
        "        # returns True if the current state is a cliff cell\n",
        "        x, y = state\n",
        "        if y != 1:\n",
        "            return False\n",
        "        if self.use_second_range:\n",
        "            return 3 <= x <= 12  # columns 3-12 (inclusive)\n",
        "        else:\n",
        "            return 2 <= x <= 11  # columns 2-11 (inclusive)\n",
        "\n",
        "    def shiftCliff(self, episode_n):\n",
        "        # every 100 episodes, toggle cliff location\n",
        "        self.use_second_range = ((episode_n // 100) % 2 == 1)\n",
        "\n",
        "    def succProbReward(self, state, action):\n",
        "        \"\"\"for CliffWalk, transitions are deterministic\"\"\"\n",
        "        if self.isEnd(state):\n",
        "            return []\n",
        "        dx, dy = self.action_to_delta[action]\n",
        "        x_new = max(1, min(self.width, state[0] + dx))\n",
        "        y_new = max(1, min(self.height, state[1] + dy))\n",
        "        next_state = (x_new, y_new)\n",
        "        if self.isCliff(next_state):\n",
        "            return [((1, 1), 1.0, -100)]  # reset to start, big negative reward\n",
        "        elif self.isEnd(next_state):\n",
        "            return [(next_state, 1.0, 0)]  # goal state, reward 0\n",
        "        else:\n",
        "            return [(next_state, 1.0, -1)]  # normal step\n"
      ],
      "metadata": {
        "id": "6kEcMDVcPdCu"
      },
      "execution_count": 5,
      "outputs": []
    },
    {
      "cell_type": "code",
      "source": [
        "#Implement SARSA\n",
        "\n",
        "import random\n",
        "\n",
        "def sarsa(mdp, num_episodes=1000, alpha=0.1, epsilon=0.1):\n",
        "    Q = {}  # Q[(state, action)] = value\n",
        "    policy = {}\n",
        "    gamma = 0.9\n",
        "    total_rewards = []\n",
        "\n",
        "    for episode in range(num_episodes):\n",
        "        mdp.shiftCliff(episode)\n",
        "        state = mdp.startState()\n",
        "        actions = mdp.actions(state)\n",
        "        if not actions:\n",
        "            break\n",
        "        # ϵ-greedy action selection\n",
        "        if random.random() < epsilon:\n",
        "            action = random.choice(actions)\n",
        "        else:\n",
        "            qvals = [Q.get((state, a), 0) for a in actions]\n",
        "            maxQ = max(qvals)\n",
        "            max_acts = [a for a, q in zip(actions, qvals) if q == maxQ]\n",
        "            action = random.choice(max_acts)\n",
        "\n",
        "        rewards_sum = 0\n",
        "        while not mdp.isEnd(state):\n",
        "            # take action, observe reward and next_state\n",
        "            transitions = mdp.succProbReward(state, action)\n",
        "            next_state, _, reward = transitions[0]\n",
        "            rewards_sum += reward\n",
        "\n",
        "            actions_next = mdp.actions(next_state)\n",
        "            if not actions_next:\n",
        "                Q[(state, action)] = Q.get((state, action), 0) + \\\n",
        "                    alpha * (reward - Q.get((state, action), 0))\n",
        "                break\n",
        "\n",
        "            # select next action (ϵ-greedy for on-policy)\n",
        "            if random.random() < epsilon:\n",
        "                next_action = random.choice(actions_next)\n",
        "            else:\n",
        "                qvals_next = [Q.get((next_state, a), 0) for a in actions_next]\n",
        "                maxQ_next = max(qvals_next)\n",
        "                max_acts_next = [a for a, q in zip(actions_next, qvals_next) if q == maxQ_next]\n",
        "                next_action = random.choice(max_acts_next)\n",
        "\n",
        "            # update Q\n",
        "            Q_cur = Q.get((state, action), 0)\n",
        "            Q_next = Q.get((next_state, next_action), 0)\n",
        "            Q[(state, action)] = Q_cur + alpha * (reward + gamma * Q_next - Q_cur)\n",
        "\n",
        "            state, action = next_state, next_action\n",
        "\n",
        "        total_rewards.append(rewards_sum)\n",
        "\n",
        "    # build final greedy policy\n",
        "    for x in range(1, mdp.width+1):\n",
        "        for y in range(1, mdp.height+1):\n",
        "            s = (x, y)\n",
        "            acts = mdp.actions(s)\n",
        "            if acts:\n",
        "                qvals = [Q.get((s, a), 0) for a in acts]\n",
        "                maxQ = max(qvals)\n",
        "                max_acts = [a for a, q in zip(acts, qvals) if q == maxQ]\n",
        "                policy[s] = random.choice(max_acts)\n",
        "    return policy, Q, total_rewards\n"
      ],
      "metadata": {
        "id": "DQjWt-noQS6l"
      },
      "execution_count": 6,
      "outputs": []
    },
    {
      "cell_type": "code",
      "source": [
        "#Evaluate Adaptation\n",
        "\n",
        "import matplotlib.pyplot as plt\n",
        "\n",
        "def moving_average(x, N=50):\n",
        "    return [sum(x[max(0, i-N):i]) / (i - max(0, i-N)) for i in range(1, len(x)+1)]\n",
        "\n",
        "mdp = CliffWalkMDP()\n",
        "policy, Q, total_rewards = sarsa(mdp, num_episodes=1000, alpha=0.1, epsilon=0.1)\n",
        "ma = moving_average(total_rewards, N=50)\n",
        "plt.plot(ma)\n",
        "plt.xlabel('Episode')\n",
        "plt.ylabel('Average Reward (last 50)')\n",
        "plt.title('SARSA on Dynamic Cliff Walking')\n",
        "plt.show()\n",
        "\n"
      ],
      "metadata": {
        "colab": {
          "base_uri": "https://localhost:8080/",
          "height": 472
        },
        "id": "AgSSjZolQkan",
        "outputId": "5d573c1d-4da3-49be-a77d-bdfc13528c76"
      },
      "execution_count": 7,
      "outputs": [
        {
          "output_type": "display_data",
          "data": {
            "text/plain": [
              "<Figure size 640x480 with 1 Axes>"
            ],
            "image/png": "[encoded data removed]"
          },
          "metadata": {}
        }
      ]
    },
    {
      "cell_type": "code",
      "source": [
        "print(\"Policy at (1,1):\", policy.get((1,1)))\n",
        "print(\"Policy at (2,1):\", policy.get((2,1)))\n",
        "print(\"Policy at (4,11):\", policy.get((4,11)))\n"
      ],
      "metadata": {
        "colab": {
          "base_uri": "https://localhost:8080/"
        },
        "id": "tmVlTWtWZK34",
        "outputId": "1901cf37-2eb6-4cb8-cd31-52fbc8ebdac7"
      },
      "execution_count": 9,
      "outputs": [
        {
          "output_type": "stream",
          "name": "stdout",
          "text": [
            "Policy at (1,1): up\n",
            "Policy at (2,1): down\n",
            "Policy at (4,11): None\n"
          ]
        }
      ]
    },
    {
      "cell_type": "markdown",
      "source": [
        "Short Report:"
      ],
      "metadata": {
        "id": "7aYwoRpDRYhQ"
      }
    },
    {
      "cell_type": "markdown",
      "source": [
        "How does SARSA handle the dynamic cliﬀ compared to a static environment?\n",
        "\n",
        "SARSA, as an on-policy learning algorithm, adapts to the dynamic (moving) cliff because it continually updates its Q-values based on new experience. When the environment shifts every 100 episodes and the cliff moves to a different position, SARSA’s exploration phase (via ϵ-greedy actions) allows the agent to encounter the new cliff and experience the heavy penalty. The Q-values for state-action pairs near the new cliff are rapidly updated to reflect the high cost, causing the policy to adjust and avoid the new hazardous region. In contrast, in a static environment, once the agent learns to avoid the fixed cliff, the policy stabilizes and little further change is needed. The dynamic case requires the agent to keep adapting, and performance typically drops immediately after each cliff shift, then recovers as the policy retunes to the new hazard zone."
      ],
      "metadata": {
        "id": "taGbRQ3aRXcy"
      }
    },
    {
      "cell_type": "markdown",
      "source": [
        "What role does ϵ play in adapting to the change?\n",
        "\n",
        "The parameter ϵ controls exploration. When the cliff shifts, a purely greedy (ϵ=0) agent might never discover the new hazard if it always exploits its old policy. With a positive ϵ (eg: 0.1), SARSA sometimes chooses random actions, allowing the agent to stumble into the newly positioned cliff, experience the penalty, and correct its policy. Thus, a nonzero ϵ is critical for the agent to continue exploring and quickly adapt to the shifting cliff. Too little exploration slows learning about the new cliff; too much can degrade overall policy performance, so a moderate setting balances adaptation and exploitation."
      ],
      "metadata": {
        "id": "UeYfak3kRrd-"
      }
    }
  ]
}