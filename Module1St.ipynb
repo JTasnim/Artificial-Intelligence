{
  "cells": [
    {
      "cell_type": "markdown",
      "id": "e84afea4-e0f3-4ac4-8b0d-9662e305a8f2",
      "metadata": {
        "id": "e84afea4-e0f3-4ac4-8b0d-9662e305a8f2"
      },
      "source": [
        "**By the end of the lab, you will:**\n",
        "\n",
        "- Submit code implementations for Batch GD and SGD.\n",
        "- Present plots comparing convergence behavior of both methods.\n",
        "- Submit a short reflection on the differences observed."
      ]
    },
    {
      "cell_type": "code",
      "execution_count": null,
      "id": "e4ea0f03-dd5a-4e89-a3f9-67b0265282bc",
      "metadata": {
        "tags": [],
        "id": "e4ea0f03-dd5a-4e89-a3f9-67b0265282bc"
      },
      "outputs": [],
      "source": [
        "import numpy as np\n",
        "import matplotlib.pyplot as plt\n",
        "import time\n",
        "import random"
      ]
    },
    {
      "cell_type": "markdown",
      "id": "24057b13-cfdc-44b2-a1b2-1ff0f89fe1ef",
      "metadata": {
        "id": "24057b13-cfdc-44b2-a1b2-1ff0f89fe1ef"
      },
      "source": [
        "## Step 1: Introduction to Linear Predictors and Loss Functions\n",
        "\n",
        "### Linear Predictor:\n",
        "$$\\hat{y} = w \\cdot x + b$$\n",
        "\n",
        "### Loss Function: Mean Squared Error (MSE)\n",
        "$$L(w, b) = \\frac{1}{n} \\sum_{i=1}^n \\left( y_i - \\hat{y}_i \\right)^2$$\n",
        "\n",
        "### Discussion:\n",
        "Loss minimization is critical for training predictors because it provides a measure of how well the model's predictions align with the actual outcomes. By minimizing the loss, we ensure the model generalizes better to unseen data, leading to improved accuracy and performance.\n"
      ]
    },
    {
      "cell_type": "markdown",
      "id": "aef4adb2-14d1-4329-9071-17addee2e52a",
      "metadata": {
        "id": "aef4adb2-14d1-4329-9071-17addee2e52a"
      },
      "source": [
        "## Step 2: Brief on Stochastic Gradient Descent\n",
        "\n",
        "### Gradient Descent:\n",
        "Updates weights by minimizing the loss:\n",
        "$$w = w - \\eta \\cdot \\frac{\\partial L}{\\partial w}$$\n",
        "\n",
        "### Stochastic Gradient Descent (SGD):\n",
        "Updates weights incrementally using a single data point:\n",
        "$$w = w - \\eta \\cdot \\frac{\\partial L_i}{\\partial w}$$\n"
      ]
    },
    {
      "cell_type": "markdown",
      "id": "c0bab208-a431-4cef-905b-02c9ebfd5ff3",
      "metadata": {
        "id": "c0bab208-a431-4cef-905b-02c9ebfd5ff3"
      },
      "source": [
        "## Step3: Data Generation"
      ]
    },
    {
      "cell_type": "code",
      "execution_count": null,
      "id": "90d6999a-7073-4182-bcf7-ec6fa85f5018",
      "metadata": {
        "id": "90d6999a-7073-4182-bcf7-ec6fa85f5018"
      },
      "outputs": [],
      "source": [
        "np.random.seed(42)\n",
        "n_samples = 100\n",
        "\n",
        "X = 2* np.random.rand( 100,1)\n",
        "\n",
        "y = 4 + 3*X + np.random.randn(n_samples,1)"
      ]
    },
    {
      "cell_type": "code",
      "source": [
        "# plot the generated data\n",
        "plt.figure(figsize=(10, 6))\n",
        "plt.scatter(X, y)\n",
        "plt.title(\"Generated Data for Linear Regression\")\n",
        "plt.xlabel(\"X\")\n",
        "plt.ylabel(\"y\")\n",
        "plt.show()"
      ],
      "metadata": {
        "colab": {
          "base_uri": "https://localhost:8080/",
          "height": 564
        },
        "id": "oTTo2D-z_eaE",
        "outputId": "7727bbb8-0b4f-4abf-e1a3-1fb92fb73db3"
      },
      "id": "oTTo2D-z_eaE",
      "execution_count": null,
      "outputs": [
        {
          "output_type": "display_data",
          "data": {
            "text/plain": [
              "<Figure size 1000x600 with 1 Axes>"
            ],
            "image/png": "[encoded data removed]"
          },
          "metadata": {}
        }
      ]
    },
    {
      "cell_type": "markdown",
      "id": "f84f908b-7a0c-46ae-82ca-3b06fc16eff1",
      "metadata": {
        "id": "f84f908b-7a0c-46ae-82ca-3b06fc16eff1"
      },
      "source": [
        "## Step4: Implementing Batch Gradient Descend"
      ]
    },
    {
      "cell_type": "markdown",
      "source": [
        "#I need (X,y)\n",
        "\n",
        "$Loss =  \\frac{1}{N}\\Sigma_{i=1}^{N}(y_i - (wx+b))^2$\n",
        "\n",
        "\n",
        "$\\frac{\\partial Loss}{\\partial w} = \\frac{\\partial \\frac{1}{N} \\Sigma_{i=1}^{N}(y_i - wx)^2}{\\partial w}$\n",
        "\n",
        "$ Gradient_w = -\\frac{2}{N} \\Sigma_{i=1}^{N}(y_i - wx)X$\n",
        "\n",
        "$\\frac{\\partial Loss}{\\partial b} = \\frac{\\partial \\frac{1}{N} \\Sigma_{i=1}^{N}(y_i - (wx+b))^2}{\\partial b}$\n",
        "\n",
        "$ Gradient_b = -\\frac{2}{N} \\Sigma_{i=1}^{N}(y_i - (wx+b))$\n",
        "\n",
        "$w_{new} = w_{old}-\\eta \\frac{1}{N} \\Sigma_{i=1}^{N}2(y_i - wx)X$"
      ],
      "metadata": {
        "id": "eN8G1OBZATEm"
      },
      "id": "eN8G1OBZATEm"
    },
    {
      "cell_type": "code",
      "source": [
        "w = np.random.randn(1)\n",
        "b = np.random.randn(1)\n",
        "print(w,b)"
      ],
      "metadata": {
        "colab": {
          "base_uri": "https://localhost:8080/"
        },
        "id": "1SCBlA7uAf_c",
        "outputId": "d1242275-1d07-4b5b-c0ba-989c0f302435"
      },
      "id": "1SCBlA7uAf_c",
      "execution_count": null,
      "outputs": [
        {
          "output_type": "stream",
          "name": "stdout",
          "text": [
            "[0.01300189] [1.45353408]\n"
          ]
        }
      ]
    },
    {
      "cell_type": "code",
      "source": [
        "LR = 0.01"
      ],
      "metadata": {
        "id": "4uRluZAiAnBs"
      },
      "id": "4uRluZAiAnBs",
      "execution_count": null,
      "outputs": []
    },
    {
      "cell_type": "code",
      "source": [
        "n = 1000"
      ],
      "metadata": {
        "id": "ZEi8F99KAplv"
      },
      "id": "ZEi8F99KAplv",
      "execution_count": null,
      "outputs": []
    },
    {
      "cell_type": "code",
      "source": [
        "N = len(X)"
      ],
      "metadata": {
        "id": "rcKannj2AsGL"
      },
      "id": "rcKannj2AsGL",
      "execution_count": null,
      "outputs": []
    },
    {
      "cell_type": "code",
      "source": [
        "for i in range(n):\n",
        "    yhat = w * X + b\n",
        "    loss = (1/N) * np.sum((y-yhat)**2)\n",
        "\n",
        "    dw = -(2/N)* np.sum((y-yhat)*X)\n",
        "    db = -(2/N)* np.sum((y-yhat))\n",
        "\n",
        "    w = w-LR*dw\n",
        "    b = b-LR*db\n",
        "\n",
        "    if (i%10==0)&(i<=100) :\n",
        "        print(f'Iteration{i}: Loss = {loss}')\n",
        "print(f'Final Weight(w) :{w}, Final bias(b): {b}')"
      ],
      "metadata": {
        "colab": {
          "base_uri": "https://localhost:8080/"
        },
        "id": "mYjQRPkFAxuF",
        "outputId": "cd9dd5ba-25c5-4d01-f28e-dffce0638b8f"
      },
      "id": "mYjQRPkFAxuF",
      "execution_count": null,
      "outputs": [
        {
          "output_type": "stream",
          "name": "stdout",
          "text": [
            "Iteration0: Loss = 32.138586076383035\n",
            "Iteration10: Loss = 14.290110205649821\n",
            "Iteration20: Loss = 6.611726403379552\n",
            "Iteration30: Loss = 3.308328296738578\n",
            "Iteration40: Loss = 1.8869794105294073\n",
            "Iteration50: Loss = 1.2752686205342254\n",
            "Iteration60: Loss = 1.0118655449910001\n",
            "Iteration70: Loss = 0.8983141942359012\n",
            "Iteration80: Loss = 0.8492417885011365\n",
            "Iteration90: Loss = 0.8279216814213755\n",
            "Iteration100: Loss = 0.8185538564218228\n",
            "Final Weight(w) :[2.77553086], Final bias(b): [4.20896047]\n"
          ]
        }
      ]
    },
    {
      "cell_type": "code",
      "source": [
        "yhat = w * X + b\n",
        "yhat.shape, X.shape"
      ],
      "metadata": {
        "colab": {
          "base_uri": "https://localhost:8080/"
        },
        "id": "eN9sHMTAA3-3",
        "outputId": "c143ef68-d83b-4f4d-c2a3-f6181266d250"
      },
      "id": "eN9sHMTAA3-3",
      "execution_count": null,
      "outputs": [
        {
          "output_type": "execute_result",
          "data": {
            "text/plain": [
              "((100, 1), (100, 1))"
            ]
          },
          "metadata": {},
          "execution_count": 17
        }
      ]
    },
    {
      "cell_type": "markdown",
      "id": "589b12b6-8563-45c5-9c57-5b296f9919eb",
      "metadata": {
        "id": "589b12b6-8563-45c5-9c57-5b296f9919eb"
      },
      "source": [
        "## Step5: Implementing Stochastic Gradient Descent"
      ]
    },
    {
      "cell_type": "code",
      "execution_count": null,
      "id": "a6be3ccd-c87a-4f13-89b4-0b0f564c71f3",
      "metadata": {
        "colab": {
          "base_uri": "https://localhost:8080/"
        },
        "id": "a6be3ccd-c87a-4f13-89b4-0b0f564c71f3",
        "outputId": "d77d21c2-2748-4a8e-ae06-fdae56ce2714"
      },
      "outputs": [
        {
          "output_type": "stream",
          "name": "stdout",
          "text": [
            "Initial w: [0.49671415], Initial b: [-0.1382643]\n",
            "Epoch 0: Loss = 6.861868368898772\n",
            "Epoch 10: Loss = 0.8258551312722225\n",
            "Epoch 20: Loss = 0.8394207927609483\n",
            "Epoch 30: Loss = 0.835095809654002\n",
            "Epoch 40: Loss = 0.8259541283515368\n",
            "Final SGD Weight (w): [2.77132293], Final SGD Bias (b): [4.23702245]\n"
          ]
        }
      ],
      "source": [
        "np.random.seed(42)\n",
        "\n",
        "# initialize parameters\n",
        "w_sgd = np.random.randn(1)  # initial weight\n",
        "b_sgd = np.random.randn(1)  # initial bias\n",
        "print(f\"Initial w: {w_sgd}, Initial b: {b_sgd}\")\n",
        "\n",
        "\n",
        "LR_sgd = 0.01\n",
        "n_epochs = 50\n",
        "N = len(X)\n",
        "\n",
        "losses_sgd = []\n",
        "\n",
        "for epoch in range(n_epochs):\n",
        "\n",
        "    indices = np.random.permutation(N)\n",
        "    X_shuffled = X[indices]\n",
        "    y_shuffled = y[indices]\n",
        "\n",
        "    epoch_loss = 0\n",
        "\n",
        "    for i in range(N):\n",
        "        xi = X_shuffled[i]\n",
        "        yi = y_shuffled[i]\n",
        "\n",
        "        yhat_i = w_sgd * xi + b_sgd\n",
        "\n",
        "        loss_i = (yi - yhat_i) ** 2\n",
        "        epoch_loss += loss_i\n",
        "\n",
        "        dw_i = -2 * (yi - yhat_i) * xi\n",
        "        db_i = -2 * (yi - yhat_i)\n",
        "\n",
        "        w_sgd = w_sgd - LR_sgd * dw_i\n",
        "        b_sgd = b_sgd - LR_sgd * db_i\n",
        "\n",
        "    epoch_loss /= N\n",
        "    losses_sgd.append(epoch_loss[0])\n",
        "\n",
        "    if epoch % 10 == 0:\n",
        "        print(f\"Epoch {epoch}: Loss = {epoch_loss[0]}\")\n",
        "\n",
        "print(f\"Final SGD Weight (w): {w_sgd}, Final SGD Bias (b): {b_sgd}\")"
      ]
    }
  ],
  "metadata": {
    "kernelspec": {
      "display_name": "Python 3 (ipykernel)",
      "language": "python",
      "name": "python3"
    },
    "language_info": {
      "codemirror_mode": {
        "name": "ipython",
        "version": 3
      },
      "file_extension": ".py",
      "mimetype": "text/x-python",
      "name": "python",
      "nbconvert_exporter": "python",
      "pygments_lexer": "ipython3",
      "version": "3.11.4"
    },
    "colab": {
      "provenance": []
    }
  },
  "nbformat": 4,
  "nbformat_minor": 5
}