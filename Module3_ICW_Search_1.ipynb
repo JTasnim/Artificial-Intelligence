{
  "nbformat": 4,
  "nbformat_minor": 0,
  "metadata": {
    "colab": {
      "provenance": []
    },
    "kernelspec": {
      "name": "python3",
      "display_name": "Python 3"
    },
    "language_info": {
      "name": "python"
    }
  },
  "cells": [
    {
      "cell_type": "markdown",
      "source": [
        "Transitions\n",
        "\n",
        "function batch_process(state):\n",
        "    return (state.data + 3, state.cost + 1)\n",
        "\n",
        "function parallel_process(state):\n",
        "    return (state.data + 7, state.cost + 4)\n",
        "\n",
        "function optimize(state):\n",
        "    if state.data == 0:\n",
        "        return null\n",
        "    gain = floor(state.data / 2)\n",
        "    return (state.data + gain, state.cost + 2)\n",
        "\n",
        "operations = [batch_process, parallel_process, optimize]\n"
      ],
      "metadata": {
        "id": "nuyLqP62f06y"
      }
    },
    {
      "cell_type": "code",
      "source": [
        "def min_cost_backtracking(N):\n",
        "    min_cost = [float('inf')]\n",
        "    def helper(data, cost):\n",
        "        if data >= N:\n",
        "            min_cost[0] = min(min_cost[0], cost)\n",
        "            return\n",
        "        if cost >= min_cost[0]:\n",
        "            return\n",
        "        helper(data + 3, cost + 1)\n",
        "        helper(data + 7, cost + 4)\n",
        "        if data > 0:\n",
        "            helper(data + data // 2, cost + 2)\n",
        "    helper(0, 0)\n",
        "    return min_cost[0]\n"
      ],
      "metadata": {
        "id": "urkqMWYhqwlu"
      },
      "execution_count": 14,
      "outputs": []
    },
    {
      "cell_type": "code",
      "source": [
        "def min_cost_dfs(N):\n",
        "    min_cost = [float('inf')]\n",
        "    visited = {}\n",
        "    def helper(data, cost):\n",
        "        if data >= N:\n",
        "            min_cost[0] = min(min_cost[0], cost)\n",
        "            return\n",
        "        if cost >= min_cost[0]:\n",
        "            return\n",
        "        if data in visited and visited[data] <= cost:\n",
        "            return\n",
        "        visited[data] = cost\n",
        "        helper(data + 3, cost + 1)\n",
        "        helper(data + 7, cost + 4)\n",
        "        if data > 0:\n",
        "            helper(data + data // 2, cost + 2)\n",
        "    helper(0, 0)\n",
        "    return min_cost[0]\n"
      ],
      "metadata": {
        "id": "6iUssCVaq63g"
      },
      "execution_count": 9,
      "outputs": []
    },
    {
      "cell_type": "code",
      "source": [
        "from collections import deque\n",
        "\n",
        "def min_cost_bfs(N):\n",
        "    queue = deque()\n",
        "    visited = {}\n",
        "    queue.append((0, 0))\n",
        "    while queue:\n",
        "        data, cost = queue.popleft()\n",
        "        if data >= N:\n",
        "            return cost\n",
        "        if data in visited and visited[data] <= cost:\n",
        "            continue\n",
        "        visited[data] = cost\n",
        "        queue.append((data + 3, cost + 1))\n",
        "        queue.append((data + 7, cost + 4))\n",
        "        if data > 0:\n",
        "            queue.append((data + data // 2, cost + 2))\n",
        "    return -1\n"
      ],
      "metadata": {
        "id": "JmXShbpLrTtn"
      },
      "execution_count": 10,
      "outputs": []
    },
    {
      "cell_type": "code",
      "source": [
        "def min_cost_dfs_id(N):\n",
        "    def dls(data, cost, limit, visited):\n",
        "        if data >= N:\n",
        "            return cost\n",
        "        if cost > limit:\n",
        "            return float('inf')\n",
        "        if data in visited and visited[data] <= cost:\n",
        "            return float('inf')\n",
        "        visited[data] = cost\n",
        "        results = []\n",
        "        results.append(dls(data + 3, cost + 1, limit, visited.copy()))\n",
        "        results.append(dls(data + 7, cost + 4, limit, visited.copy()))\n",
        "        if data > 0:\n",
        "            results.append(dls(data + data // 2, cost + 2, limit, visited.copy()))\n",
        "        return min(results)\n",
        "\n",
        "    limit = 0\n",
        "    while True:\n",
        "        result = dls(0, 0, limit, {})\n",
        "        if result != float('inf'):\n",
        "            return result\n",
        "        limit += 1\n"
      ],
      "metadata": {
        "id": "WvNUiPhBrmny"
      },
      "execution_count": 11,
      "outputs": []
    },
    {
      "cell_type": "code",
      "source": [
        "N = 20\n",
        "print(\"Backtracking:\", min_cost_backtracking(N))\n",
        "print(\"DFS:\", min_cost_dfs(N))\n",
        "print(\"BFS:\", min_cost_bfs(N))\n",
        "print(\"DFS-ID:\", min_cost_dfs_id(N))\n"
      ],
      "metadata": {
        "colab": {
          "base_uri": "https://localhost:8080/"
        },
        "id": "UIfpeH3ahhIn",
        "outputId": "e420126a-861b-4d12-d145-1fbc130cbc6a"
      },
      "execution_count": 12,
      "outputs": [
        {
          "output_type": "stream",
          "name": "stdout",
          "text": [
            "Backtracking: 7\n",
            "DFS: 7\n",
            "BFS: 12\n",
            "DFS-ID: 7\n"
          ]
        }
      ]
    },
    {
      "cell_type": "code",
      "source": [
        "N = 25\n",
        "print(\"Backtracking:\", min_cost_backtracking(N))\n",
        "print(\"DFS:\", min_cost_dfs(N))\n",
        "print(\"BFS:\", min_cost_bfs(N))\n",
        "print(\"DFS-ID:\", min_cost_dfs_id(N))\n"
      ],
      "metadata": {
        "colab": {
          "base_uri": "https://localhost:8080/"
        },
        "id": "J3cqgJ-opM89",
        "outputId": "b679c4af-6083-49f6-ebee-3187af9de448"
      },
      "execution_count": 13,
      "outputs": [
        {
          "output_type": "stream",
          "name": "stdout",
          "text": [
            "Backtracking: 8\n",
            "DFS: 8\n",
            "BFS: 11\n",
            "DFS-ID: 8\n"
          ]
        }
      ]
    },
    {
      "cell_type": "markdown",
      "source": [
        "For small N all methods are feasible\n",
        "\n",
        "For large N, BFS is the most efficient and reliable\n",
        "\n",
        "Backtracking and DFS may be slow for large N due to redundant exploration\n",
        "\n",
        "DFS-ID is optimal but may be slower than BFS in practice"
      ],
      "metadata": {
        "id": "NwCt9o1Hubcw"
      }
    }
  ]
}