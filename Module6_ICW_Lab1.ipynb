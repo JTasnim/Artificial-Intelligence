{
  "cells": [
    {
      "cell_type": "markdown",
      "id": "0f39b968-5a4c-467d-8ef5-a8b6a013db2d",
      "metadata": {
        "id": "0f39b968-5a4c-467d-8ef5-a8b6a013db2d"
      },
      "source": [
        "# Reinforcement Learning with Monte Carlo, SARSA, and Exploration-Exploitation\n",
        "\n",
        "## Objective\n",
        "In this lab, you will extend the `TransportationMDP` problem into reinforcement learning (RL). You will implement Monte Carlo and SARSA algorithms, compare their performance, and explore the exploration-exploitation trade-off.\n",
        "\n",
        "## Background\n",
        "Unlike value iteration, RL methods learn from experience. You’ll simulate an agent moving through the transportation problem without knowing `failProb` or exact outcomes, using Monte Carlo (model-free) and SARSA (temporal-difference) methods.\n",
        "\n",
        "## Tasks\n",
        "1. **Simulate Episodes**\n",
        "   - Write `simulateEpisode(mdp, policy, max_steps=100)` to return a list of (state, action, reward) tuples.\n",
        "\n",
        "2. **Implement Monte Carlo**\n",
        "   - Create `monteCarlo(mdp, num_episodes=1000, epsilon=0.1)` using an \\(\\epsilon\\)-greedy strategy. Compute \\(Q(s, a)\\) and derive the policy.\n",
        "\n",
        "3. **Implement SARSA**\n",
        "   - Write `sarsa(mdp, num_episodes=1000, alpha=0.1, epsilon=0.1)` to update \\(Q(s, a)\\) incrementally.\n",
        "\n",
        "4. **Exploration vs. Exploitation**\n",
        "   - Run Monte Carlo and SARSA with \\(\\epsilon = 0.01\\) and \\(\\epsilon = 0.5\\). Record average cumulative reward over the last 100 episodes.\n",
        "\n",
        "## Questions\n",
        "1. How does the Monte Carlo policy compare to value iteration?\n",
        "2. What are the key differences between Monte Carlo and SARSA?\n",
        "3. How does changing \\(\\epsilon\\) affect the policy?\n",
        "4. Which method would you choose for a real transportation system, and why?\n",
        "\n",
        "## Deliverables\n",
        "- Submit your code.\n",
        "- Provide a report (2-3 pages) comparing policies and answering questions.\""
      ]
    },
    {
      "cell_type": "code",
      "execution_count": 18,
      "id": "b08f5750-feca-476d-9101-eeb285739fd8",
      "metadata": {
        "id": "b08f5750-feca-476d-9101-eeb285739fd8"
      },
      "outputs": [],
      "source": [
        "import os\n",
        "import random\n",
        "\n",
        "class TransportationMDP(object):\n",
        "    walkCost = 1\n",
        "    tramCost = 1\n",
        "    failProb = 0.5\n",
        "\n",
        "    def __init__(self, N):\n",
        "        self.N = N\n",
        "\n",
        "    def startState(self):\n",
        "        return 1\n",
        "\n",
        "    def isEnd(self, state):\n",
        "        return state == self.N\n",
        "\n",
        "    def actions(self, state):\n",
        "        results = []\n",
        "        if state + 1 <= self.N:\n",
        "            results.append('walk')\n",
        "        if 2 * state <= self.N:\n",
        "            results.append('tram')\n",
        "        return results\n",
        "\n",
        "    def succProbReward(self, state, action):\n",
        "        results = []\n",
        "        if action == 'walk':\n",
        "            results.append((state + 1, 1, -self.walkCost))\n",
        "        elif action == 'tram':\n",
        "            results.append((state, self.failProb, -self.tramCost))\n",
        "            results.append((2 * state, 1 - self.failProb, -self.tramCost))\n",
        "        return results\n",
        "\n",
        "    def discount(self):\n",
        "        return 1.0\n",
        "\n",
        "    def states(self):\n",
        "        return list(range(1, self.N + 1))\n",
        "\n",
        "# Placeholder for student implementations\n",
        "# def simulateEpisode(mdp, policy, max_steps=100):\n",
        "#     pass\n",
        "\n",
        "# def monteCarlo(mdp, num_episodes=1000, epsilon=0.1):\n",
        "#     pass\n",
        "\n",
        "# def sarsa(mdp, num_episodes=1000, alpha=0.1, epsilon=0.1):\n",
        "#     pass\n",
        "\n",
        "# mdp = TransportationMDP(N=27)\n",
        "# # Test your implementations here"
      ]
    },
    {
      "cell_type": "code",
      "source": [
        "def epsilon_greedy(Q, state, epsilon, actions):\n",
        "    if not actions:  #handle empty action list\n",
        "        return None\n",
        "    if random.random() < epsilon:\n",
        "        return random.choice(actions)\n",
        "    return max(actions, key=lambda a: Q.get((state, a), float('-inf')))"
      ],
      "metadata": {
        "id": "TDG10VmZaD-v"
      },
      "id": "TDG10VmZaD-v",
      "execution_count": 19,
      "outputs": []
    },
    {
      "cell_type": "code",
      "source": [
        "def simulateEpisode(mdp, policy, max_steps=100):\n",
        "    episode = []\n",
        "    state = mdp.startState()\n",
        "    for _ in range(max_steps):\n",
        "        if mdp.isEnd(state):\n",
        "            break\n",
        "        actions = mdp.actions(state)\n",
        "        if not actions:  #no available actions\n",
        "            break\n",
        "        action = policy(state)\n",
        "        if action is None:  #in case policy returns none\n",
        "            break\n",
        "        transitions = mdp.succProbReward(state, action)\n",
        "        prob = random.random()\n",
        "        cumulative_prob = 0\n",
        "        for (s_next, p, reward) in transitions:\n",
        "            cumulative_prob += p\n",
        "            if prob <= cumulative_prob:\n",
        "                episode.append((state, action, reward))\n",
        "                state = s_next\n",
        "                break\n",
        "    return episode"
      ],
      "metadata": {
        "id": "MJk6S1T1aMv-"
      },
      "id": "MJk6S1T1aMv-",
      "execution_count": 20,
      "outputs": []
    },
    {
      "cell_type": "code",
      "source": [
        "def monteCarlo(mdp, num_episodes=1000, epsilon=0.1):\n",
        "    Q = {}\n",
        "    returns = {}\n",
        "    policy = lambda s: epsilon_greedy(Q, s, epsilon, mdp.actions(s))\n",
        "\n",
        "    for _ in range(num_episodes):\n",
        "        episode = simulateEpisode(mdp, policy)\n",
        "        G = 0\n",
        "        visited = set()\n",
        "        for t in reversed(range(len(episode))):\n",
        "            state, action, reward = episode[t]\n",
        "            G = reward + mdp.discount() * G\n",
        "            if (state, action) not in visited:\n",
        "                visited.add((state, action))\n",
        "                returns[(state, action)] = returns.get((state, action), []) + [G]\n",
        "                Q[(state, action)] = sum(returns[(state, action)]) / len(returns[(state, action)])\n",
        "\n",
        "    learned_policy = lambda s: max(mdp.actions(s), key=lambda a: Q.get((s, a), float('-inf')))\n",
        "    return Q, learned_policy"
      ],
      "metadata": {
        "id": "igLfoebraN-m"
      },
      "id": "igLfoebraN-m",
      "execution_count": 21,
      "outputs": []
    },
    {
      "cell_type": "code",
      "source": [
        "def sarsa(mdp, num_episodes=1000, alpha=0.1, epsilon=0.1):\n",
        "    Q = {}\n",
        "    policy = lambda s: epsilon_greedy(Q, s, epsilon, mdp.actions(s))\n",
        "\n",
        "    for _ in range(num_episodes):\n",
        "        state = mdp.startState()\n",
        "        action = policy(state)\n",
        "        while not mdp.isEnd(state):\n",
        "            transitions = mdp.succProbReward(state, action)\n",
        "            prob = random.random()\n",
        "            cumulative_prob = 0\n",
        "            for (s_next, p, reward) in transitions:\n",
        "                cumulative_prob += p\n",
        "                if prob <= cumulative_prob:\n",
        "                    break\n",
        "            next_action = policy(s_next)\n",
        "            Q_current = Q.get((state, action), 0)\n",
        "            Q_next = Q.get((s_next, next_action), 0)\n",
        "            Q[(state, action)] = Q_current + alpha * (reward + mdp.discount() * Q_next - Q_current)\n",
        "            state, action = s_next, next_action\n",
        "\n",
        "    learned_policy = lambda s: max(mdp.actions(s), key=lambda a: Q.get((s, a), float('-inf')))\n",
        "    return Q, learned_policy"
      ],
      "metadata": {
        "id": "GInwVaToaUDq"
      },
      "id": "GInwVaToaUDq",
      "execution_count": 22,
      "outputs": []
    },
    {
      "cell_type": "code",
      "source": [
        "#testing\n",
        "mdp = TransportationMDP(N=27)\n",
        "Q_mc, policy_mc = monteCarlo(mdp, epsilon=0.1)\n",
        "Q_sarsa, policy_sarsa = sarsa(mdp, epsilon=0.1)"
      ],
      "metadata": {
        "id": "2j2aFFgPcBTJ"
      },
      "id": "2j2aFFgPcBTJ",
      "execution_count": 37,
      "outputs": []
    },
    {
      "cell_type": "code",
      "source": [
        "#Exploration vs. Exploitation Analysis\n",
        "\n",
        "def run_experiment(method, epsilons, num_episodes=1000):\n",
        "    rewards = {}\n",
        "    for eps in epsilons:\n",
        "        if method == 'MC':\n",
        "            _, policy = monteCarlo(mdp, num_episodes, epsilon=eps)\n",
        "        else:\n",
        "            _, policy = sarsa(mdp, num_episodes, epsilon=eps)\n",
        "        avg_reward = sum(sum(r for _,_,r in simulateEpisode(mdp, policy)) for _ in range(100)) / 100\n",
        "        rewards[eps] = avg_reward\n",
        "    return rewards\n",
        "\n",
        "mc_rewards = run_experiment('MC', [0.01, 0.5])\n",
        "sarsa_rewards = run_experiment('SARSA', [0.01, 0.5])\n",
        "print(\"Monte Carlo Rewards:\", mc_rewards)\n",
        "print(\"SARSA Rewards:\", sarsa_rewards)"
      ],
      "metadata": {
        "colab": {
          "base_uri": "https://localhost:8080/"
        },
        "id": "pJhgDEqdgwZT",
        "outputId": "988b09af-854c-496f-c0c3-a2c72e2b1df7"
      },
      "id": "pJhgDEqdgwZT",
      "execution_count": 36,
      "outputs": [
        {
          "output_type": "stream",
          "name": "stdout",
          "text": [
            "Monte Carlo Rewards: {0.01: -16.91, 0.5: -15.45}\n",
            "SARSA Rewards: {0.01: -10.92, 0.5: -11.15}\n"
          ]
        }
      ]
    },
    {
      "cell_type": "code",
      "source": [
        "if __name__ == \"__main__\":\n",
        "    mdp = TransportationMDP(N=27)\n",
        "\n",
        "    #compare MC and SARSA with different epsilon values\n",
        "    epsilons = [0.01, 0.1, 0.5]\n",
        "    mc_rewards = run_experiments(mdp, 'MC', epsilons)\n",
        "    sarsa_rewards = run_experiments(mdp, 'SARSA', epsilons)\n",
        "\n",
        "    print(\"Monte Carlo Rewards:\", mc_rewards)\n",
        "    print(\"SARSA Rewards:\", sarsa_rewards)\n",
        "\n",
        "    #plot results\n",
        "    plot_results(mc_rewards, sarsa_rewards)\n",
        "\n",
        "    #example policy output\n",
        "    Q_mc, policy_mc = monteCarlo(mdp, epsilon=0.1)\n",
        "    print(\"\\nMonte Carlo Policy at state 1:\", policy_mc(1))\n",
        "    print(\"Monte Carlo Q-values for state 1:\")\n",
        "    for action in mdp.actions(1):\n",
        "        print(f\"  {action}: {Q_mc.get((1, action), 0):.2f}\")\n",
        "\n",
        "    Q_sarsa, policy_sarsa = sarsa(mdp, epsilon=0.1)\n",
        "    print(\"\\nSARSA Policy at state 1:\", policy_sarsa(1))\n",
        "    print(\"SARSA Q-values for state 1:\")\n",
        "    for action in mdp.actions(1):\n",
        "        print(f\"  {action}: {Q_sarsa.get((1, action), 0):.2f}\")"
      ],
      "metadata": {
        "colab": {
          "base_uri": "https://localhost:8080/",
          "height": 778
        },
        "id": "BfPl7NvncUfx",
        "outputId": "25d6fbaa-3a8e-41a6-98aa-b8748869e219"
      },
      "id": "BfPl7NvncUfx",
      "execution_count": 29,
      "outputs": [
        {
          "output_type": "stream",
          "name": "stdout",
          "text": [
            "Monte Carlo Rewards: {0.01: -17.01, 0.1: -14.32, 0.5: -13.77}\n",
            "SARSA Rewards: {0.01: -12.59, 0.1: -10.72, 0.5: -12.3}\n"
          ]
        },
        {
          "output_type": "display_data",
          "data": {
            "text/plain": [
              "<Figure size 1000x600 with 1 Axes>"
            ],
            "image/png": "[encoded data removed]"
          },
          "metadata": {}
        },
        {
          "output_type": "stream",
          "name": "stdout",
          "text": [
            "\n",
            "Monte Carlo Policy at state 1: tram\n",
            "Monte Carlo Q-values for state 1:\n",
            "  walk: -17.33\n",
            "  tram: -16.82\n",
            "\n",
            "SARSA Policy at state 1: walk\n",
            "SARSA Q-values for state 1:\n",
            "  walk: -11.14\n",
            "  tram: -11.55\n"
          ]
        }
      ]
    },
    {
      "cell_type": "markdown",
      "source": [
        "Report:"
      ],
      "metadata": {
        "id": "qgA1Qer5hkSW"
      },
      "id": "qgA1Qer5hkSW"
    },
    {
      "cell_type": "markdown",
      "source": [
        "Question 1: Monte Carlo vs. Value Iteration\n",
        "\n",
        "Value Iteration: Requires full MDP knowledge (transitions/rewards), computes exact optimal policy.\n",
        "\n",
        "Monte Carlo: Model-free, learns from episodes. Slower convergence but works without MDP dynamics.\n",
        "\n",
        "Comparison: MC approximates value iteration's policy given enough episodes but with more variance.\n",
        "\n"
      ],
      "metadata": {
        "id": "3fM2QcPrhnaW"
      },
      "id": "3fM2QcPrhnaW"
    },
    {
      "cell_type": "markdown",
      "source": [
        "Question 2: Monte Carlo vs. SARSA\n",
        "\n",
        "Monte Carlo and SARSA are both reinforcement learning methods used to estimate the value of policies, but they differ significantly in how and when they update their value estimates. Monte Carlo methods update the value function only after an entire episode has been completed, which makes them unbiased but results in high variance. In contrast, SARSA performs updates at every time step during an episode, making it an online method. This allows SARSA to be more data-efficient and better suited for real-time learning, though it introduces some bias in the estimates. However, the trade-off is that SARSA tends to have lower variance in its updates. Overall, SARSA is generally more efficient in utilizing data and converges faster than Monte Carlo in most practical settings."
      ],
      "metadata": {
        "id": "hsoMWuxwh7LO"
      },
      "id": "hsoMWuxwh7LO"
    },
    {
      "cell_type": "markdown",
      "source": [
        "Question 3: Effect of ε\n",
        "\n",
        "ε = 0.01: Exploits known actions; may miss optimal paths (eg. rarely tries tram).\n",
        "\n",
        "ε = 0.5: Explores more; finds better policies but converges slower."
      ],
      "metadata": {
        "id": "rTNzg8iuiR54"
      },
      "id": "rTNzg8iuiR54"
    },
    {
      "cell_type": "markdown",
      "source": [
        "Question 4: Real-World Recommendation\n",
        "\n",
        "For a real transportation system, I would using SARSA due to its online learning capability and safer policy updates. Unlike Monte Carlo methods that require complete episodes before updating, SARSA learns incrementally at each timestep, making it better suited for dynamic environments where conditions like traffic or delays change frequently. Its on-policy nature ensures a balanced exploration-exploitation strategy, adapting to real-time feedback while minimizing risky decisions. Additionally, SARSA's lower variance and computational efficiency make it more practical for large-scale, real-world transportation networks where immediate responsiveness and reliability are crucial."
      ],
      "metadata": {
        "id": "rvImsWiCiXE4"
      },
      "id": "rvImsWiCiXE4"
    }
  ],
  "metadata": {
    "kernelspec": {
      "display_name": "Python 3 (ipykernel)",
      "language": "python",
      "name": "python3"
    },
    "language_info": {
      "codemirror_mode": {
        "name": "ipython",
        "version": 3
      },
      "file_extension": ".py",
      "mimetype": "text/x-python",
      "name": "python",
      "nbconvert_exporter": "python",
      "pygments_lexer": "ipython3",
      "version": "3.11.4"
    },
    "colab": {
      "provenance": []
    }
  },
  "nbformat": 4,
  "nbformat_minor": 5
}