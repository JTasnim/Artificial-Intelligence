{
 "cells": [
  {
   "cell_type": "code",
   "execution_count": null,
   "id": "d5f14a8b",
   "metadata": {},
   "outputs": [],
   "source": [
    "import numpy as np\n",
    "import pandas as pd\n",
    "import matplotlib.pyplot as plt\n",
    "\n",
    "# Load dataset\n",
    "df = pd.read_csv(\"Iris2.csv\")\n",
    "\n",
    "X = df.drop('class', axis=1).values\n",
    "y = df['class'].values.reshape(-1, 1)\n",
    "\n",
    "X = (X - np.mean(X, axis=0)) / np.std(X, axis=0)\n"
   ]
  },
  {
   "cell_type": "code",
   "execution_count": null,
   "id": "f30d3e97",
   "metadata": {},
   "outputs": [
    {
     "name": "stdout",
     "output_type": "stream",
     "text": [
      "Training size: 120, Testing size: 30\n"
     ]
    }
   ],
   "source": [
    "np.random.seed(42)\n",
    "indices = np.arange(X.shape[0])\n",
    "np.random.shuffle(indices)\n",
    "\n",
    "train_ratio = 0.8\n",
    "split_index = int(train_ratio * X.shape[0])\n",
    "\n",
    "X_train, X_test = X[indices[:split_index]], X[indices[split_index:]]\n",
    "y_train, y_test = y[indices[:split_index]], y[indices[split_index:]]\n",
    "\n",
    "print(f\"Training size: {X_train.shape[0]}, Testing size: {X_test.shape[0]}\")"
   ]
  },
  {
   "cell_type": "code",
   "execution_count": null,
   "id": "e6e399e7",
   "metadata": {},
   "outputs": [],
   "source": [
    "def sigmoid(z):\n",
    "    return 1 / (1 + np.exp(-z))"
   ]
  },
  {
   "cell_type": "code",
   "execution_count": null,
   "id": "cd35ccb1",
   "metadata": {},
   "outputs": [],
   "source": [
    "def initialize_parameters(n_features):\n",
    "    weights = np.zeros((n_features, 1))\n",
    "    bias = 0\n",
    "    return weights, bias"
   ]
  },
  {
   "cell_type": "code",
   "execution_count": null,
   "id": "79160ecc",
   "metadata": {},
   "outputs": [],
   "source": [
    "def compute_loss(y_true, y_pred):\n",
    "    m = len(y_true)\n",
    "    loss = - (1 / m) * np.sum(y_true * np.log(y_pred) + (1 - y_true) * np.log(1 - y_pred))\n",
    "    return loss"
   ]
  },
  {
   "cell_type": "code",
   "execution_count": null,
   "id": "66fd9b5e",
   "metadata": {},
   "outputs": [],
   "source": [
    "def stochastic_gradient_descent(X, y, weights, bias, learning_rate, epochs):\n",
    "    m = len(y)\n",
    "    loss_history = []\n",
    "\n",
    "    for epoch in range(epochs):\n",
    "        for i in range(m):\n",
    "            x_i = X[i].reshape(1, -1)\n",
    "            y_i = y[i].reshape(1, -1)\n",
    "\n",
    "            # Compute Prediction\n",
    "            z = np.dot(x_i, weights) + bias\n",
    "            y_pred = sigmoid(z)\n",
    "\n",
    "            # Compute Gradients\n",
    "            dw = np.dot(x_i.T, (y_pred - y_i))\n",
    "            db = np.sum(y_pred - y_i)\n",
    "\n",
    "            weights -= learning_rate * dw\n",
    "            bias -= learning_rate * db\n",
    "\n",
    "        # Compute Loss for Monitoring\n",
    "        y_pred_full = sigmoid(np.dot(X, weights) + bias)\n",
    "        loss = compute_loss(y, y_pred_full)\n",
    "        loss_history.append(loss)\n",
    "\n",
    "        if epoch % 10 == 0:\n",
    "            print(f\"Epoch {epoch}: Loss = {loss:.4f}\")\n",
    "\n",
    "    return weights, bias, loss_history"
   ]
  },
  {
   "cell_type": "code",
   "execution_count": null,
   "id": "fd1a380b",
   "metadata": {},
   "outputs": [
    {
     "name": "stdout",
     "output_type": "stream",
     "text": [
      "Epoch 0: Loss = 0.4652\n",
      "Epoch 10: Loss = 0.0814\n",
      "Epoch 20: Loss = 0.0423\n",
      "Epoch 30: Loss = 0.0284\n",
      "Epoch 40: Loss = 0.0213\n",
      "Epoch 50: Loss = 0.0170\n",
      "Epoch 60: Loss = 0.0142\n",
      "Epoch 70: Loss = 0.0121\n",
      "Epoch 80: Loss = 0.0106\n",
      "Epoch 90: Loss = 0.0094\n"
     ]
    },
    {
     "data": {
      "image/png": "[encoded data removed]",
      "text/plain": [
       "<Figure size 640x480 with 1 Axes>"
      ]
     },
     "metadata": {},
     "output_type": "display_data"
    }
   ],
   "source": [
    "weights, bias = initialize_parameters(X_train.shape[1])\n",
    "\n",
    "weights, bias, loss_history = stochastic_gradient_descent(X_train, y_train, weights, bias, learning_rate=0.01, epochs=100)\n",
    "\n",
    "plt.plot(loss_history)\n",
    "plt.xlabel(\"Epochs\")\n",
    "plt.ylabel(\"Loss\")\n",
    "plt.title(\"Loss Curve\")\n",
    "plt.show()"
   ]
  },
  {
   "cell_type": "code",
   "execution_count": null,
   "id": "7dba3c62",
   "metadata": {},
   "outputs": [
    {
     "name": "stdout",
     "output_type": "stream",
     "text": [
      "Training Accuracy: 100.00%\n",
      "Testing Accuracy: 100.00%\n"
     ]
    }
   ],
   "source": [
    "def predict(X, weights, bias):\n",
    "    z = np.dot(X, weights) + bias\n",
    "    y_pred = sigmoid(z)\n",
    "    return (y_pred >= 0.5).astype(int)\n",
    "\n",
    "y_pred_test = predict(X_test, weights, bias)\n",
    "y_pred_train = predict(X_train, weights, bias)\n",
    "\n",
    "train_accuracy = np.mean(y_pred_train == y_train) * 100\n",
    "test_accuracy = np.mean(y_pred_test == y_test) * 100\n",
    "\n",
    "print(f\"Training Accuracy: {train_accuracy:.2f}%\")\n",
    "print(f\"Testing Accuracy: {test_accuracy:.2f}%\")"
   ]
  },
  {
   "cell_type": "markdown",
   "id": "39c143f0-1207-4cc9-afb6-76aeca62a396",
   "metadata": {},
   "source": [
    "# **AI Lab: Implementing a Simple Neural Network from Scratch**\n",
    "\n",
    "## **Objective**\n",
    "In this lab, you will:\n",
    "- Load and prepare the **Iris dataset** manually.\n",
    "- Implement a **feedforward neural network** for binary classification.\n",
    "- Train the model using **backpropagation and gradient descent**.\n",
    "- Evaluate its performance on train and test data.\n",
    "- Plot the **loss curve** to visualize training progress."
   ]
  },
  {
   "cell_type": "markdown",
   "id": "4fe32569-3339-4cc7-ab31-91a3652e280a",
   "metadata": {},
   "source": [
    "## Step 1\n",
    "We will manually load the **Iris dataset**, but only consider two classes for binary classification:\n",
    "- **Iris-setosa** → label `1`\n",
    "- **Iris-versicolor** → label `0`\n",
    "\n",
    "We will also:\n",
    "- Split the data into **training (80%)** and **testing (20%)** sets manually (without `sklearn`).\n",
    "- Convert labels into column vectors for proper matrix operations.\n"
   ]
  },
  {
   "cell_type": "code",
   "execution_count": null,
   "id": "183df33f-1674-4a38-bf58-03f2f1d08967",
   "metadata": {
    "tags": []
   },
   "outputs": [
    {
     "name": "stdout",
     "output_type": "stream",
     "text": [
      "Skipping invalid row: ,Petal Length,Petal Width,Sepal Length,Sepal Width,class | Error: could not convert string to float: ''\n"
     ]
    }
   ],
   "source": [
    "import numpy as np\n",
    "import matplotlib.pyplot as plt\n",
    "\n",
    "def load_iris_data(file_path):\n",
    "    data = []\n",
    "    labels = []\n",
    "    \n",
    "    with open(file_path, \"r\") as file:\n",
    "        for line in file:\n",
    "            parts = line.strip().split(\",\")\n",
    "\n",
    "            if len(parts) < 5:\n",
    "                print(f\"Skipping malformed row: {line.strip()}\")\n",
    "                continue\n",
    "\n",
    "            try:\n",
    "                features = np.array(parts[:-1], dtype=float)\n",
    "                label=int(parts[-1])\n",
    "                data.append(features)\n",
    "                labels.append(label)\n",
    "            except ValueError as e:\n",
    "                print(f\"Skipping invalid row: {line.strip()} | Error: {e}\")\n",
    "                continue\n",
    "\n",
    "    return np.array(data), np.array(labels)\n",
    "X, y = load_iris_data('Iris2.csv')"
   ]
  },
  {
   "cell_type": "code",
   "execution_count": null,
   "id": "268d519f",
   "metadata": {
    "tags": []
   },
   "outputs": [],
   "source": [
    "np.random.seed(42)\n",
    "indices = np.random.permutation(len(X))\n",
    "split = int(0.8 * len(X))\n",
    "train_idx, test_idx = indices[:split], indices[split:]\n",
    "\n",
    "X_train, y_train = X[train_idx], y[train_idx]\n",
    "X_test, y_test = X[test_idx], y[test_idx]\n",
    "\n",
    "y_train, y_test = y_train.reshape(1, -1), y_test.reshape(1, -1)"
   ]
  },
  {
   "cell_type": "markdown",
   "id": "8c4cbcd0-f972-4f5c-a8bb-888735cb1eb9",
   "metadata": {},
   "source": [
    "### **Step 2: Initialize Neural Network Parameters**\n",
    "- We initialize weights **W1, W2** and biases **b1, b2** randomly.\n",
    "- The network consists of **one hidden layer** with `3` neurons and **ReLU activation**.\n"
   ]
  },
  {
   "cell_type": "code",
   "execution_count": null,
   "id": "6c8b3ded",
   "metadata": {
    "tags": []
   },
   "outputs": [],
   "source": [
    "def initialize_parameters(input_size, hidden_size, output_size):\n",
    "    np.random.seed(42)\n",
    "    W1 = np.random.randn(hidden_size, input_size) * 0.01\n",
    "    b1 = np.zeros((hidden_size, 1))\n",
    "    W2 = np.random.randn(output_size, hidden_size) * 0.01\n",
    "    b2 = np.zeros((output_size, 1))\n",
    "    return W1, b1, W2, b2\n",
    "\n",
    "input_size = X_train.shape[1]\n",
    "hidden_size = 3\n",
    "output_size = 1\n",
    "W1, b1, W2, b2 = initialize_parameters(input_size, hidden_size, output_size)"
   ]
  },
  {
   "cell_type": "code",
   "execution_count": null,
   "id": "a516c975",
   "metadata": {
    "tags": []
   },
   "outputs": [],
   "source": [
    "def sigmoid(z):\n",
    "    return 1 / (1 + np.exp(-z))\n",
    "def relu(z):\n",
    "    return np.maximum(0, z)\n",
    "def relu_derivative(z):\n",
    "    return z > 0"
   ]
  },
  {
   "cell_type": "code",
   "execution_count": null,
   "id": "844da62f",
   "metadata": {
    "tags": []
   },
   "outputs": [],
   "source": [
    "def forward_propagation(X, W1, b1, W2, b2):\n",
    "    Z1 = np.dot(W1, X.T) + b1\n",
    "    A1 = relu(Z1)\n",
    "    Z2 = np.dot(W2, A1) + b2\n",
    "    A2 = sigmoid(Z2)\n",
    "\n",
    "    cache = {\"Z1\": Z1, \"A1\": A1, \"Z2\": Z2, \"A2\": A2}\n",
    "    return A2, cache"
   ]
  },
  {
   "cell_type": "code",
   "execution_count": null,
   "id": "8eaf0f17-2e80-4f97-a47e-45829bf34370",
   "metadata": {
    "tags": []
   },
   "outputs": [],
   "source": [
    "def compute_loss(A2, Y):\n",
    "    m = Y.shape[1]\n",
    "    loss = -np.sum(Y * np.log(A2) + (1 - Y) * np.log(1 - A2)) / m\n",
    "    return loss"
   ]
  },
  {
   "cell_type": "code",
   "execution_count": null,
   "id": "e70954b8-baf5-4461-88d8-e5ef23559f7a",
   "metadata": {
    "tags": []
   },
   "outputs": [],
   "source": [
    "def backward_propagation(X, Y, cache, W1, W2):\n",
    "    m = X.shape[0]\n",
    "    A1, A2 = cache[\"A1\"], cache[\"A2\"]\n",
    "    \n",
    "    dZ2 = A2 - Y\n",
    "    dW2 = (1 / m) * np.dot(dZ2, A1.T)\n",
    "    db2 = (1 / m) * np.sum(dZ2, axis=1, keepdims=True)\n",
    "    \n",
    "    dA1 = np.dot(W2.T, dZ2)  \n",
    "    dZ1 = dA1 * relu_derivative(cache[\"Z1\"])  \n",
    "    dW1 = (1 / m) * np.dot(dZ1, X)  \n",
    "    db1 = (1 / m) * np.sum(dZ1, axis=1, keepdims=True)\n",
    "    \n",
    "    gradients = {\"dW1\": dW1, \"db1\": db1, \"dW2\": dW2, \"db2\": db2}\n",
    "    return gradients"
   ]
  },
  {
   "cell_type": "code",
   "execution_count": null,
   "id": "7312d195-3810-4d09-8871-c09ef4f70da4",
   "metadata": {
    "tags": []
   },
   "outputs": [],
   "source": [
    "def update_parameters(W1, b1, W2, b2, gradients, learning_rate):\n",
    "    W1 -= learning_rate * gradients[\"dW1\"]\n",
    "    b1 -= learning_rate * gradients[\"db1\"]\n",
    "    W2 -= learning_rate * gradients[\"dW2\"]\n",
    "    b2 -= learning_rate * gradients[\"db2\"]\n",
    "    return W1, b1, W2, b2"
   ]
  },
  {
   "cell_type": "code",
   "execution_count": null,
   "id": "897d8226-026b-49c0-acdf-a089a5196d7b",
   "metadata": {
    "tags": []
   },
   "outputs": [],
   "source": [
    "def train_neural_network(X_train, y_train, X_test, y_test, hidden_size=3, epochs=500, learning_rate=0.01):\n",
    "    input_size = X_train.shape[1]\n",
    "    output_size = 1\n",
    "    \n",
    "    W1, b1, W2, b2 = initialize_parameters(input_size, hidden_size, output_size)\n",
    "    \n",
    "    losses = []\n",
    "    for epoch in range(epochs):\n",
    "        A2, cache = forward_propagation(X_train, W1, b1, W2, b2)\n",
    "        loss = compute_loss(A2, y_train)\n",
    "        losses.append(loss)\n",
    "        \n",
    "        gradients = backward_propagation(X_train, y_train, cache, W1, W2)\n",
    "        W1, b1, W2, b2 = update_parameters(W1, b1, W2, b2, gradients, learning_rate)\n",
    "        \n",
    "        if epoch % 50 == 0:\n",
    "            print(f\"Epoch {epoch}, Loss: {loss:.4f}\")\n",
    "\n",
    "    plt.plot(losses)\n",
    "    plt.xlabel(\"Epochs\")\n",
    "    plt.ylabel(\"Loss\")\n",
    "    plt.title(\"Training Loss Curve\")\n",
    "    plt.show()\n",
    "    \n",
    "    return W1, b1, W2, b2"
   ]
  },
  {
   "cell_type": "code",
   "execution_count": null,
   "id": "b87cbf0d-fc5e-4e5e-8bbe-5ab3dd48884e",
   "metadata": {
    "tags": []
   },
   "outputs": [
    {
     "name": "stdout",
     "output_type": "stream",
     "text": [
      "Epoch 0, Loss: 0.6919\n",
      "Epoch 50, Loss: 0.0553\n",
      "Epoch 100, Loss: 0.0333\n",
      "Epoch 150, Loss: 0.0244\n",
      "Epoch 200, Loss: 0.0192\n",
      "Epoch 250, Loss: 0.0158\n",
      "Epoch 300, Loss: 0.0133\n",
      "Epoch 350, Loss: 0.0115\n",
      "Epoch 400, Loss: 0.0101\n",
      "Epoch 450, Loss: 0.0089\n"
     ]
    },
    {
     "data": {
      "image/png": "[encoded data removed]",
      "text/plain": [
       "<Figure size 640x480 with 1 Axes>"
      ]
     },
     "metadata": {},
     "output_type": "display_data"
    }
   ],
   "source": [
    "Model = train_neural_network(X_train, y_train, X_test, y_test)"
   ]
  },
  {
   "cell_type": "code",
   "execution_count": null,
   "id": "1717ddc3-651f-4d60-8840-de19ad94ba8a",
   "metadata": {
    "tags": []
   },
   "outputs": [
    {
     "name": "stdout",
     "output_type": "stream",
     "text": [
      "Training Accuracy: 100.00%\n",
      "Testing Accuracy: 100.00%\n"
     ]
    }
   ],
   "source": [
    "def predict(X, W1, b1, W2, b2):\n",
    "    A2, _ = forward_propagation(X, W1, b1, W2, b2)\n",
    "    return (A2 > 0.5).astype(int)\n",
    "W1,b1,W2,b2=Model\n",
    "\n",
    "y_train_pred = predict(X_train, W1, b1, W2, b2)\n",
    "y_test_pred = predict(X_test, W1, b1, W2, b2)\n",
    "\n",
    "train_acc = np.mean(y_train_pred == y_train) * 100\n",
    "test_acc = np.mean(y_test_pred == y_test) * 100\n",
    "\n",
    "print(f\"Training Accuracy: {train_acc:.2f}%\")\n",
    "print(f\"Testing Accuracy: {test_acc:.2f}%\")"
   ]
  }
 ],
 "metadata": {
  "kernelspec": {
   "display_name": ".venv",
   "language": "python",
   "name": "python3"
  },
  "language_info": {
   "codemirror_mode": {
    "name": "ipython",
    "version": 3
   },
   "file_extension": ".py",
   "mimetype": "text/x-python",
   "name": "python",
   "nbconvert_exporter": "python",
   "pygments_lexer": "ipython3",
   "version": "3.9.9"
  }
 },
 "nbformat": 4,
 "nbformat_minor": 5
}
